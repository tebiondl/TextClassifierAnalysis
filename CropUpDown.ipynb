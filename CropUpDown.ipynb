{
 "cells": [
  {
   "cell_type": "code",
   "execution_count": null,
   "id": "7bd2aa45-a47a-4ab2-ad66-f1bf989129e7",
   "metadata": {},
   "outputs": [],
   "source": [
    "import pandas as pd\n"
   ]
  },
  {
   "cell_type": "code",
   "execution_count": null,
   "id": "63257a1f-0623-4fb9-a938-3f468ba8f8c8",
   "metadata": {},
   "outputs": [],
   "source": [
    "min_texts = 2000"
   ]
  },
  {
   "cell_type": "code",
   "execution_count": null,
   "id": "98d86e48-4e99-47b5-99fe-2a8e31a8ce00",
   "metadata": {},
   "outputs": [],
   "source": [
    "# Leer el archivo CSV original\n",
    "df = pd.read_csv('FinalDataset/polished_dataset_94.csv')\n",
    "\n",
    "# Contar la cantidad de textos por clase\n",
    "conteo_clases = df['NewClass'].value_counts()\n",
    "\n",
    "# Filtrar las clases que tienen al menos 2000 textos\n",
    "clases_filtradas = conteo_clases[conteo_clases >= min_texts].index\n",
    "\n",
    "print(clases_filtradas)\n",
    "\n",
    "# Filtrar el DataFrame original para que solo contenga las clases filtradas\n",
    "df_filtrado = df[df['NewClass'].isin(clases_filtradas)]\n",
    "\n",
    "# Guardar el nuevo DataFrame en un archivo CSV\n",
    "df_filtrado.to_csv('FinalDataset/polished_dataset_94_texts_down_'+str(min_texts)+'.csv', index=False)\n"
   ]
  }
 ],
 "metadata": {
  "kernelspec": {
   "display_name": "Python 3 (ipykernel)",
   "language": "python",
   "name": "python3"
  },
  "language_info": {
   "codemirror_mode": {
    "name": "ipython",
    "version": 3
   },
   "file_extension": ".py",
   "mimetype": "text/x-python",
   "name": "python",
   "nbconvert_exporter": "python",
   "pygments_lexer": "ipython3",
   "version": "3.11.4"
  }
 },
 "nbformat": 4,
 "nbformat_minor": 5
}
