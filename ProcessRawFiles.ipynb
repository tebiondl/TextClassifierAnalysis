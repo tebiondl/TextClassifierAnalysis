{
 "cells": [
  {
   "cell_type": "code",
   "execution_count": 1,
   "id": "7c855879-ff0e-41f9-890d-8b50f1653fdd",
   "metadata": {},
   "outputs": [
    {
     "name": "stdout",
     "output_type": "stream",
     "text": [
      "\u001b[33mWARNING: The directory '/home/jovyan/.cache/pip' or its parent directory is not owned or is not writable by the current user. The cache has been disabled. Check the permissions and owner of that directory. If executing pip with sudo, you should use sudo's -H flag.\u001b[0m\u001b[33m\n",
      "\u001b[0mRequirement already satisfied: pandas in /opt/conda/lib/python3.11/site-packages (2.0.3)\n",
      "Requirement already satisfied: rdflib in /opt/conda/lib/python3.11/site-packages (7.0.0)\n",
      "Requirement already satisfied: python-dateutil>=2.8.2 in /opt/conda/lib/python3.11/site-packages (from pandas) (2.8.2)\n",
      "Requirement already satisfied: pytz>=2020.1 in /opt/conda/lib/python3.11/site-packages (from pandas) (2023.3)\n",
      "Requirement already satisfied: tzdata>=2022.1 in /opt/conda/lib/python3.11/site-packages (from pandas) (2023.3)\n",
      "Requirement already satisfied: numpy>=1.21.0 in /opt/conda/lib/python3.11/site-packages (from pandas) (1.23.5)\n",
      "Requirement already satisfied: isodate<0.7.0,>=0.6.0 in /opt/conda/lib/python3.11/site-packages (from rdflib) (0.6.1)\n",
      "Requirement already satisfied: pyparsing<4,>=2.1.0 in /opt/conda/lib/python3.11/site-packages (from rdflib) (3.1.0)\n",
      "Requirement already satisfied: six in /opt/conda/lib/python3.11/site-packages (from isodate<0.7.0,>=0.6.0->rdflib) (1.16.0)\n",
      "\u001b[33mWARNING: Running pip as the 'root' user can result in broken permissions and conflicting behaviour with the system package manager. It is recommended to use a virtual environment instead: https://pip.pypa.io/warnings/venv\u001b[0m\u001b[33m\n",
      "\u001b[0mNote: you may need to restart the kernel to use updated packages.\n"
     ]
    }
   ],
   "source": [
    "pip install pandas rdflib"
   ]
  },
  {
   "cell_type": "code",
   "execution_count": 2,
   "id": "13d0167c-fdde-4d0d-9d45-f4f23646ac3a",
   "metadata": {},
   "outputs": [],
   "source": [
    "import pandas as pd\n",
    "from rdflib import Graph"
   ]
  },
  {
   "cell_type": "code",
   "execution_count": 3,
   "id": "82c665b8-7e59-4833-b0ce-4fe62bfc136d",
   "metadata": {},
   "outputs": [],
   "source": [
    "# Leer el archivo CSV con clases y subclases\n",
    "df_classes = pd.read_csv('FinalDataset/DBpediaClasses.csv', header=None)\n",
    "df_classes.columns = ['Class', 'Subclass']"
   ]
  },
  {
   "cell_type": "code",
   "execution_count": 4,
   "id": "a5e93b63-0865-421d-879f-b7640d4ba105",
   "metadata": {},
   "outputs": [
    {
     "name": "stdout",
     "output_type": "stream",
     "text": [
      "                  Class              Subclass\n",
      "0                 Abbey     ReligiousBuilding\n",
      "1       AcademicJournal  PeriodicalLiterature\n",
      "2       AcademicSubject        TopicalConcept\n",
      "3              Activity                  root\n",
      "4                 Actor                Artist\n",
      "5  AdministrativeRegion                Region\n",
      "6            AdultActor                 Actor\n",
      "7                 Agent                  root\n",
      "8         Agglomeration        PopulatedPlace\n",
      "9              Aircraft  MeanOfTransportation\n"
     ]
    }
   ],
   "source": [
    "df_classes = df_classes.drop(0).reset_index(drop=True)\n",
    "print(df_classes.head(10))"
   ]
  },
  {
   "cell_type": "code",
   "execution_count": 5,
   "id": "1c678d6f-46e1-4948-bc9c-96c0b3114d8d",
   "metadata": {},
   "outputs": [
    {
     "data": {
      "text/plain": [
       "<Graph identifier=N9543027db87b4a3894a7d358e4c1ed51 (<class 'rdflib.graph.Graph'>)>"
      ]
     },
     "execution_count": 5,
     "metadata": {},
     "output_type": "execute_result"
    }
   ],
   "source": [
    "# Leer el archivo TTL con las relaciones de clases\n",
    "g_clases = Graph()\n",
    "g_clases.parse('FinalDataset/instance_types_es.2017-04-01.ttl', format='ttl')\n",
    "\n",
    "# Leer el archivo TTL con los textos\n",
    "g_textos = Graph()\n",
    "g_textos.parse('FinalDataset/long_abstracts_es.ttl.2017-04-01', format='ttl')"
   ]
  },
  {
   "cell_type": "code",
   "execution_count": 6,
   "id": "14bab992-a744-496b-a251-d20bc80f8ba1",
   "metadata": {},
   "outputs": [],
   "source": [
    "# Crear un diccionario para almacenar las relaciones\n",
    "resource_to_class = {}\n",
    "resource_to_text = {}\n",
    "\n",
    "# Extraer las relaciones de clases\n",
    "for s, p, o in g_clases:\n",
    "    if str(p) == 'http://www.w3.org/1999/02/22-rdf-syntax-ns#type':\n",
    "        resource_to_class[str(s)] = str(o)\n",
    "    #if i < 10:\n",
    "        #print(str(s))\n",
    "        #print(str(o))\n",
    "\n",
    "# Extraer las relaciones de textos\n",
    "for s, p, o in g_textos:\n",
    "    if str(p) == 'http://dbpedia.org/ontology/abstract':\n",
    "        resource_to_text[str(s)] = str(o)\n",
    "    #if i < 10:\n",
    "        #print(str(s))\n",
    "        #print(str(o))\n",
    "\n",
    "# Crear una lista para almacenar las filas del nuevo CSV\n",
    "rows = []\n",
    "\n",
    "for resource, clase in resource_to_class.items():\n",
    "    clase = clase.split('/')[-1]\n",
    "    if resource in resource_to_text:\n",
    "        texto = resource_to_text[resource]\n",
    "        # Verificar si la clase existe en el DataFrame\n",
    "        subclase_series = df_classes.loc[df_classes['Class'] == clase, 'Subclass']\n",
    "        if not subclase_series.empty:\n",
    "            subclase = subclase_series.values[0]\n",
    "            rows.append([clase, subclase, texto])\n",
    "\n",
    "# Crear el DataFrame final y guardar en un archivo CSV\n",
    "df_final = pd.DataFrame(rows, columns=['Class', 'Subclass', 'Text'])\n",
    "df_final.to_csv('FinalDataset/final_dataset.csv', index=False)"
   ]
  }
 ],
 "metadata": {
  "kernelspec": {
   "display_name": "Python 3 (ipykernel)",
   "language": "python",
   "name": "python3"
  },
  "language_info": {
   "codemirror_mode": {
    "name": "ipython",
    "version": 3
   },
   "file_extension": ".py",
   "mimetype": "text/x-python",
   "name": "python",
   "nbconvert_exporter": "python",
   "pygments_lexer": "ipython3",
   "version": "3.11.4"
  }
 },
 "nbformat": 4,
 "nbformat_minor": 5
}
