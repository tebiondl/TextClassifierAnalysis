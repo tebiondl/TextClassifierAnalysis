{
 "cells": [
  {
   "cell_type": "code",
   "execution_count": null,
   "id": "7c855879-ff0e-41f9-890d-8b50f1653fdd",
   "metadata": {},
   "outputs": [],
   "source": [
    "pip install pandas rdflib"
   ]
  },
  {
   "cell_type": "code",
   "execution_count": null,
   "id": "13d0167c-fdde-4d0d-9d45-f4f23646ac3a",
   "metadata": {},
   "outputs": [],
   "source": [
    "import pandas as pd\n",
    "from rdflib import Graph"
   ]
  },
  {
   "cell_type": "code",
   "execution_count": null,
   "id": "82c665b8-7e59-4833-b0ce-4fe62bfc136d",
   "metadata": {},
   "outputs": [],
   "source": [
    "# Read CSV\n",
    "df_classes = pd.read_csv('FinalDataset/DBpediaClasses.csv', header=None)\n",
    "df_classes.columns = ['Class', 'Subclass']"
   ]
  },
  {
   "cell_type": "code",
   "execution_count": null,
   "id": "a5e93b63-0865-421d-879f-b7640d4ba105",
   "metadata": {},
   "outputs": [],
   "source": [
    "df_classes = df_classes.drop(0).reset_index(drop=True)\n",
    "print(df_classes.head(10))"
   ]
  },
  {
   "cell_type": "code",
   "execution_count": null,
   "id": "1c678d6f-46e1-4948-bc9c-96c0b3114d8d",
   "metadata": {},
   "outputs": [],
   "source": [
    "# Read the ttl with the classes relations\n",
    "g_clases = Graph()\n",
    "g_clases.parse('FinalDataset/instance_types_es.2017-04-01.ttl', format='ttl')\n",
    "\n",
    "# Read ttl with texts\n",
    "g_textos = Graph()\n",
    "g_textos.parse('FinalDataset/long_abstracts_es.ttl.2017-04-01', format='ttl')"
   ]
  },
  {
   "cell_type": "code",
   "execution_count": null,
   "id": "14bab992-a744-496b-a251-d20bc80f8ba1",
   "metadata": {},
   "outputs": [],
   "source": [
    "# Create dictionary to store relations\n",
    "resource_to_class = {}\n",
    "resource_to_text = {}\n",
    "\n",
    "# Extract relations of every class\n",
    "for s, p, o in g_clases:\n",
    "    if str(p) == 'http://www.w3.org/1999/02/22-rdf-syntax-ns#type':\n",
    "        resource_to_class[str(s)] = str(o)\n",
    "\n",
    "# Extract relations from texts\n",
    "for s, p, o in g_textos:\n",
    "    if str(p) == 'http://dbpedia.org/ontology/abstract':\n",
    "        resource_to_text[str(s)] = str(o)\n",
    "\n",
    "# Create a list for the new csv data\n",
    "rows = []\n",
    "\n",
    "for resource, clase in resource_to_class.items():\n",
    "    clase = clase.split('/')[-1]\n",
    "    if resource in resource_to_text:\n",
    "        texto = resource_to_text[resource]\n",
    "        # Verificar si la clase existe en el DataFrame\n",
    "        subclase_series = df_classes.loc[df_classes['Class'] == clase, 'Subclass']\n",
    "        if not subclase_series.empty:\n",
    "            subclase = subclase_series.values[0]\n",
    "            rows.append([clase, subclase, texto])\n",
    "\n",
    "# Save the data\n",
    "df_final = pd.DataFrame(rows, columns=['Class', 'Subclass', 'Text'])\n",
    "df_final.to_csv('FinalDataset/final_dataset.csv', index=False)"
   ]
  }
 ],
 "metadata": {
  "kernelspec": {
   "display_name": "Python 3 (ipykernel)",
   "language": "python",
   "name": "python3"
  },
  "language_info": {
   "codemirror_mode": {
    "name": "ipython",
    "version": 3
   },
   "file_extension": ".py",
   "mimetype": "text/x-python",
   "name": "python",
   "nbconvert_exporter": "python",
   "pygments_lexer": "ipython3",
   "version": "3.11.4"
  }
 },
 "nbformat": 4,
 "nbformat_minor": 5
}
