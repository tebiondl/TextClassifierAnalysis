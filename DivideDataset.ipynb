{
 "cells": [
  {
   "cell_type": "code",
   "execution_count": null,
   "id": "5d5039c8-7330-410d-94f3-acf4089c1492",
   "metadata": {},
   "outputs": [],
   "source": [
    "import pandas as pd\n",
    "import os"
   ]
  },
  {
   "cell_type": "code",
   "execution_count": null,
   "id": "7a66ac60-b2b9-4afa-9b38-c3d54a588db0",
   "metadata": {},
   "outputs": [],
   "source": [
    "#Parameters\n",
    "max_textos = 20000\n",
    "num_classes = \"46\""
   ]
  },
  {
   "cell_type": "code",
   "execution_count": null,
   "id": "3c7130bd-9951-447e-b4d6-7214664f769e",
   "metadata": {},
   "outputs": [],
   "source": [
    "def limitar_textos_por_categoria(dataframe, max_textos):\n",
    "    dataframe_lim = dataframe.groupby('NewClass').apply(lambda x: x.sample(min(len(x), max_textos))).reset_index(drop=True)\n",
    "    return dataframe_lim"
   ]
  },
  {
   "cell_type": "code",
   "execution_count": null,
   "id": "21f864b4-8ff9-43e9-a2b7-b38a0704b636",
   "metadata": {},
   "outputs": [],
   "source": [
    "train_filename = 'FinalDataset/polished_dataset_'+num_classes+'.csv'\n",
    "train_data = pd.read_csv(train_filename)\n",
    "\n",
    "train_data_limitado = limitar_textos_por_categoria(train_data, max_textos)\n",
    "\n",
    "output_filename = 'FinalDataset/polished_dataset_'+num_classes+'_'+str(max_textos)+'_limited_texts.csv'\n",
    "\n",
    "if os.path.exists(output_filename):\n",
    "    os.remove(output_filename)\n",
    "\n",
    "train_data_limitado.to_csv(output_filename, index=False)\n",
    "\n",
    "print(f\"Nuevo dataset guardado en {output_filename}\")"
   ]
  },
  {
   "cell_type": "code",
   "execution_count": null,
   "id": "01796615-261c-4a4c-9318-b8824c0f1347",
   "metadata": {},
   "outputs": [],
   "source": [
    "def contar_palabras(texto):\n",
    "    return len(texto.split())\n",
    "\n",
    "def limitar_palabras_por_categoria(dataframe):\n",
    "    dataframe['WordCount'] = dataframe['Text'].apply(contar_palabras)\n",
    "\n",
    "    mean_word_count = dataframe.groupby('NewClass')['WordCount'].mean()\n",
    "\n",
    "    dataframe_lim = pd.DataFrame(columns=dataframe.columns)\n",
    "\n",
    "    for category, mean_words in mean_word_count.items():\n",
    "        categoria_df = dataframe[dataframe['NewClass'] == category]\n",
    "        \n",
    "        categoria_df = categoria_df.sort_values(by='WordCount', ascending=False)\n",
    "        while categoria_df['WordCount'].sum() > mean_words * len(categoria_df):\n",
    "            categoria_df = categoria_df.iloc[:-1]\n",
    "        \n",
    "        dataframe_lim = pd.concat([dataframe_lim, categoria_df])\n",
    "\n",
    "    return dataframe_lim"
   ]
  },
  {
   "cell_type": "code",
   "execution_count": null,
   "id": "1e85e281-4c1f-484e-8433-8be0c3c67048",
   "metadata": {},
   "outputs": [],
   "source": [
    "train_filename = 'FinalDataset/polished_dataset_'+num_classes+'.csv'\n",
    "train_data = pd.read_csv(train_filename)\n",
    "\n",
    "train_data_limitado = limitar_palabras_por_categoria(train_data)\n",
    "\n",
    "output_filename = 'FinalDataset/polished_dataset_'+num_classes+'_'+str(max_textos)+'_limited_words.csv'\n",
    "train_data_limitado.to_csv(output_filename, index=False)\n",
    "\n",
    "print(f\"Nuevo dataset guardado en {output_filename}\")"
   ]
  }
 ],
 "metadata": {
  "kernelspec": {
   "display_name": "Python 3 (ipykernel)",
   "language": "python",
   "name": "python3"
  },
  "language_info": {
   "codemirror_mode": {
    "name": "ipython",
    "version": 3
   },
   "file_extension": ".py",
   "mimetype": "text/x-python",
   "name": "python",
   "nbconvert_exporter": "python",
   "pygments_lexer": "ipython3",
   "version": "3.11.4"
  }
 },
 "nbformat": 4,
 "nbformat_minor": 5
}
