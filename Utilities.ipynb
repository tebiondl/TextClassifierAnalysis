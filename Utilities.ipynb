{
 "cells": [
  {
   "cell_type": "code",
   "execution_count": 1,
   "id": "976e66f0-1614-40b2-845a-a50a3a8f44aa",
   "metadata": {},
   "outputs": [
    {
     "name": "stdout",
     "output_type": "stream",
     "text": [
      "Columnas originales: Index(['Model Name', 'Num Classes', 'Total Texts', 'Total Words', 'Accuracy',\n",
      "       'Precision', 'F1 Score', 'Recall', 'Validation Time', 'Train Time',\n",
      "       'Date'],\n",
      "      dtype='object')\n",
      "Columnas renombradas: Index(['Model Name', 'Num Classes', 'Total Texts', 'Total Words', 'Accuracy',\n",
      "       'Precision', 'F1 Score', 'Recall', 'Train Time', 'Validation Time',\n",
      "       'Date'],\n",
      "      dtype='object')\n"
     ]
    }
   ],
   "source": [
    "import pandas as pd\n",
    "\n",
    "# Leer el archivo CSV en un DataFrame\n",
    "df = pd.read_csv('Results/ModelResults.csv')\n",
    "\n",
    "# Mostrar las columnas originales\n",
    "print(\"Columnas originales:\", df.columns)\n",
    "\n",
    "# Renombrar las columnas\n",
    "df = df.rename(columns={\n",
    "    'Train Time': 'Validation Time',\n",
    "    'Validation Time': 'Train Time'\n",
    "})\n",
    "\n",
    "# Mostrar las columnas renombradas\n",
    "print(\"Columnas renombradas:\", df.columns)\n",
    "\n",
    "# Guardar el DataFrame modificado en un nuevo archivo CSV (o sobrescribir el original)\n",
    "df.to_csv('Results/ModelResults.csv', index=False)\n"
   ]
  },
  {
   "cell_type": "code",
   "execution_count": 4,
   "id": "21d235c7-a0b4-4c40-8e88-a87570bad6f5",
   "metadata": {},
   "outputs": [
    {
     "name": "stdout",
     "output_type": "stream",
     "text": [
      "Archivo salida2.csv creado con éxito.\n"
     ]
    }
   ],
   "source": [
    "# Crear csv para árbol de prueba\n",
    "import csv\n",
    "\n",
    "def crear_csv(desde_string, nombre_archivo):\n",
    "    # Dividir el string en líneas\n",
    "    lineas = desde_string.strip().split('\\n')\n",
    "    \n",
    "    # Abrir el archivo CSV para escritura\n",
    "    with open(nombre_archivo, mode='w', newline='') as archivo_csv:\n",
    "        escritor_csv = csv.writer(archivo_csv)\n",
    "        \n",
    "        # Escribir la cabecera\n",
    "        escritor_csv.writerow(['Text', 'Class'])\n",
    "        \n",
    "        # Escribir cada línea del string\n",
    "        for linea in lineas:\n",
    "            sub_class, class_ = linea.split(',')\n",
    "            escritor_csv.writerow([sub_class, class_])\n",
    "\n",
    "# Ejemplo de uso\n",
    "mi_string = \"carne,pollo\\ncarne,vaca\\ncarne,oveja\\nvegetal,zanahoria\\nvegetal,tomate\"\n",
    "nombre_del_archivo = \"salida2.csv\"\n",
    "crear_csv(mi_string, nombre_del_archivo)\n",
    "\n",
    "print(f\"Archivo {nombre_del_archivo} creado con éxito.\")"
   ]
  },
  {
   "cell_type": "code",
   "execution_count": 1,
   "id": "d5de679c-3e91-4173-97d5-7c340149f20d",
   "metadata": {},
   "outputs": [],
   "source": [
    "import csv\n",
    "from datetime import datetime\n",
    "csv_file = \"Results/ModelResults.csv\"\n",
    "current_date = datetime.now().strftime('%Y-%m-%d')\n",
    "\n",
    "dato = {\"nombre\": \"XLNet\",\n",
    "        \"num_classes\": 94,\n",
    "        \"num_textos\": 380952,\n",
    "        \"num_palabras\": 31449420,\n",
    "        \"accuracy\": 0.5421,\n",
    "        \"dataset\": \"2000 texts\"\n",
    "        }\n",
    "\n",
    "with open(csv_file, mode='a', newline='') as file:\n",
    "    writer = csv.writer(file)\n",
    "    writer.writerow([dato[\"nombre\"], dato[\"num_classes\"], dato[\"num_textos\"], dato[\"num_palabras\"], dato[\"accuracy\"], 0, 0, 0, 0, 0, current_date, dato[\"dataset\"]])"
   ]
  },
  {
   "cell_type": "code",
   "execution_count": 2,
   "id": "87538295-0a9e-4253-ac11-892a635a99a9",
   "metadata": {},
   "outputs": [],
   "source": [
    "import pandas as pd\n",
    "# Leer el archivo CSV existente\n",
    "df = pd.read_csv('Results/ModelResults.csv')\n",
    "\n",
    "# Añadir la nueva columna \"Dataset\" con un valor por defecto (por ejemplo, \"NuevoDataset\")\n",
    "df['Dataset'] = ''\n",
    "\n",
    "# Guardar los cambios en un nuevo archivo CSV (o sobreescribir el existente)\n",
    "#df.to_csv('Results/ModelResultsPlus.csv', index=False)"
   ]
  },
  {
   "cell_type": "code",
   "execution_count": 6,
   "id": "b37432e8-305d-40ff-bb07-bd23c2f6830a",
   "metadata": {},
   "outputs": [
    {
     "name": "stdout",
     "output_type": "stream",
     "text": [
      "Model Name                         XLNet\n",
      "Num Classes                           94\n",
      "Total Texts                       380952\n",
      "Total Words                     31449420\n",
      "Accuracy                        0.542123\n",
      "Precision                            0.0\n",
      "F1 Score                             0.0\n",
      "Recall                               0.0\n",
      "Train Time                  30690.284707\n",
      "Validation Time                 0.020434\n",
      "Date                          2024-07-12\n",
      "Dataset            20000 texts down 2000\n",
      "Name: 85, dtype: object\n"
     ]
    }
   ],
   "source": [
    "#Borrar fila de CSV\n",
    "import pandas as pd\n",
    "\n",
    "# Leer el archivo CSV\n",
    "df = pd.read_csv('Results/ModelResults.csv')\n",
    "\n",
    "# Mostrar la fila 86 (índice 85 ya que los índices comienzan en 0)\n",
    "print(df.iloc[85])\n",
    "df.drop(index=85, inplace=True)\n",
    "#df.to_csv('Results/ModelResults.csv', index=False)"
   ]
  },
  {
   "cell_type": "code",
   "execution_count": 9,
   "id": "1f57dfa9-5579-40a5-92ff-dc637e382744",
   "metadata": {},
   "outputs": [
    {
     "name": "stdout",
     "output_type": "stream",
     "text": [
      "Antes de editar:\n",
      "Model Name              XLNet\n",
      "Num Classes                94\n",
      "Total Texts            380952\n",
      "Total Words          31449420\n",
      "Accuracy               0.5421\n",
      "Precision                 0.0\n",
      "F1 Score                  0.0\n",
      "Recall                    0.0\n",
      "Train Time                0.0\n",
      "Validation Time           0.0\n",
      "Date               2024-07-13\n",
      "Dataset            2000 texts\n",
      "Name: 85, dtype: object\n",
      "\n",
      "Después de editar:\n",
      "Model Name               XLNet\n",
      "Num Classes                 94\n",
      "Total Texts             380952\n",
      "Total Words           31449420\n",
      "Accuracy                0.5421\n",
      "Precision                  0.0\n",
      "F1 Score                   0.0\n",
      "Recall                     0.0\n",
      "Train Time                 0.0\n",
      "Validation Time            0.0\n",
      "Date                2024-07-13\n",
      "Dataset            20000 texts\n",
      "Name: 85, dtype: object\n"
     ]
    }
   ],
   "source": [
    "#Editar fila de csv\n",
    "import pandas as pd\n",
    "\n",
    "# Leer el archivo CSV\n",
    "df = pd.read_csv('Results/ModelResults.csv')\n",
    "\n",
    "# Ver la fila 86 antes de hacer cambios\n",
    "print(\"Antes de editar:\")\n",
    "print(df.iloc[85])\n",
    "\n",
    "# Cambiar el valor en la fila 86 (índice 85) y columna \"Dataset\"\n",
    "df.at[85, 'Dataset'] = '20000 texts'\n",
    "\n",
    "# Ver la fila 86 después de hacer cambios\n",
    "print(\"\\nDespués de editar:\")\n",
    "print(df.iloc[85])\n",
    "\n",
    "# Guardar el archivo CSV actualizado\n",
    "#df.to_csv('Results/ModelResults.csv', index=False)\n"
   ]
  },
  {
   "cell_type": "code",
   "execution_count": null,
   "id": "cd1f4161-d930-46cd-8961-e7d6c1d98250",
   "metadata": {},
   "outputs": [],
   "source": []
  },
  {
   "cell_type": "code",
   "execution_count": null,
   "id": "cace7eb6-e751-4ba7-a3fc-6146ce4cabb6",
   "metadata": {},
   "outputs": [],
   "source": []
  }
 ],
 "metadata": {
  "kernelspec": {
   "display_name": "Python 3 (ipykernel)",
   "language": "python",
   "name": "python3"
  },
  "language_info": {
   "codemirror_mode": {
    "name": "ipython",
    "version": 3
   },
   "file_extension": ".py",
   "mimetype": "text/x-python",
   "name": "python",
   "nbconvert_exporter": "python",
   "pygments_lexer": "ipython3",
   "version": "3.11.4"
  }
 },
 "nbformat": 4,
 "nbformat_minor": 5
}
