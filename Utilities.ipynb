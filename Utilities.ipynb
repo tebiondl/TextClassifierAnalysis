{
 "cells": [
  {
   "cell_type": "code",
   "execution_count": null,
   "id": "976e66f0-1614-40b2-845a-a50a3a8f44aa",
   "metadata": {},
   "outputs": [],
   "source": [
    "# Change column names\n",
    "import pandas as pd\n",
    "\n",
    "df = pd.read_csv('Results/ModelResults.csv')\n",
    "\n",
    "print(\"Columnas originales:\", df.columns)\n",
    "df = df.rename(columns={\n",
    "    'Train Time': 'Validation Time',\n",
    "    'Validation Time': 'Train Time'\n",
    "})\n",
    "\n",
    "print(\"Columnas renombradas:\", df.columns)\n",
    "df.to_csv('Results/ModelResults.csv', index=False)\n"
   ]
  },
  {
   "cell_type": "code",
   "execution_count": null,
   "id": "21d235c7-a0b4-4c40-8e88-a87570bad6f5",
   "metadata": {},
   "outputs": [],
   "source": [
    "# Create a tree csv for testing\n",
    "import csv\n",
    "\n",
    "def crear_csv(desde_string, nombre_archivo):\n",
    "    lineas = desde_string.strip().split('\\n')\n",
    "    \n",
    "    with open(nombre_archivo, mode='w', newline='') as archivo_csv:\n",
    "        escritor_csv = csv.writer(archivo_csv)\n",
    "        \n",
    "        escritor_csv.writerow(['Text', 'Class'])\n",
    "        \n",
    "        for linea in lineas:\n",
    "            sub_class, class_ = linea.split(',')\n",
    "            escritor_csv.writerow([sub_class, class_])\n",
    "\n",
    "mi_string = \"carne,pollo\\ncarne,vaca\\ncarne,oveja\\nvegetal,zanahoria\\nvegetal,tomate\"\n",
    "nombre_del_archivo = \"salida2.csv\"\n",
    "crear_csv(mi_string, nombre_del_archivo)\n",
    "\n",
    "print(f\"Archivo {nombre_del_archivo} creado con éxito.\")"
   ]
  },
  {
   "cell_type": "code",
   "execution_count": null,
   "id": "d5de679c-3e91-4173-97d5-7c340149f20d",
   "metadata": {},
   "outputs": [],
   "source": [
    "# Add results for a specific model\n",
    "import csv\n",
    "from datetime import datetime\n",
    "csv_file = \"Results/ModelResults.csv\"\n",
    "current_date = datetime.now().strftime('%Y-%m-%d')\n",
    "\n",
    "dato = {\"nombre\": \"XLNet\",\n",
    "        \"num_classes\": 94,\n",
    "        \"num_textos\": 380952,\n",
    "        \"num_palabras\": 31449420,\n",
    "        \"accuracy\": 0.5421,\n",
    "        \"dataset\": \"2000 texts\"\n",
    "        }\n",
    "\n",
    "with open(csv_file, mode='a', newline='') as file:\n",
    "    writer = csv.writer(file)\n",
    "    writer.writerow([dato[\"nombre\"], dato[\"num_classes\"], dato[\"num_textos\"], dato[\"num_palabras\"], dato[\"accuracy\"], 0, 0, 0, 0, 0, current_date, dato[\"dataset\"]])"
   ]
  },
  {
   "cell_type": "code",
   "execution_count": null,
   "id": "87538295-0a9e-4253-ac11-892a635a99a9",
   "metadata": {},
   "outputs": [],
   "source": [
    "# Add new columns to a csv\n",
    "import pandas as pd\n",
    "df = pd.read_csv('Results/ModelResults.csv')\n",
    "df['Dataset'] = ''\n",
    "#df.to_csv('Results/ModelResultsPlus.csv', index=False)"
   ]
  },
  {
   "cell_type": "code",
   "execution_count": null,
   "id": "b37432e8-305d-40ff-bb07-bd23c2f6830a",
   "metadata": {},
   "outputs": [],
   "source": [
    "# Delete row of csv\n",
    "import pandas as pd\n",
    "\n",
    "df = pd.read_csv('Results/ModelResults.csv')\n",
    "print(df.iloc[85])\n",
    "df.drop(index=85, inplace=True)\n",
    "#df.to_csv('Results/ModelResults.csv', index=False)"
   ]
  },
  {
   "cell_type": "code",
   "execution_count": null,
   "id": "1f57dfa9-5579-40a5-92ff-dc637e382744",
   "metadata": {},
   "outputs": [],
   "source": [
    "#Edit row of csv\n",
    "import pandas as pd\n",
    "\n",
    "df = pd.read_csv('Results/ModelResults.csv')\n",
    "\n",
    "print(\"Antes de editar:\")\n",
    "print(df.iloc[85])\n",
    "\n",
    "df.at[85, 'Dataset'] = '20000 texts'\n",
    "\n",
    "print(\"\\nDespués de editar:\")\n",
    "print(df.iloc[85])\n",
    "\n",
    "#df.to_csv('Results/ModelResults.csv', index=False)\n"
   ]
  }
 ],
 "metadata": {
  "kernelspec": {
   "display_name": "Python 3 (ipykernel)",
   "language": "python",
   "name": "python3"
  },
  "language_info": {
   "codemirror_mode": {
    "name": "ipython",
    "version": 3
   },
   "file_extension": ".py",
   "mimetype": "text/x-python",
   "name": "python",
   "nbconvert_exporter": "python",
   "pygments_lexer": "ipython3",
   "version": "3.10.13"
  }
 },
 "nbformat": 4,
 "nbformat_minor": 5
}
