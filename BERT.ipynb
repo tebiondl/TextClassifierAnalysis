{
 "cells": [
  {
   "cell_type": "code",
   "execution_count": null,
   "id": "216408b7-5f0c-446b-afcb-f6b1b5ebdb77",
   "metadata": {},
   "outputs": [],
   "source": [
    "from transformers import BertTokenizer, TFBertForSequenceClassification\n",
    "import tensorflow as tf\n",
    "import os\n",
    "import matplotlib.pyplot as plt\n",
    "import numpy as np\n",
    "from sklearn.metrics import confusion_matrix, classification_report\n",
    "import itertools\n",
    "from sklearn.metrics import precision_score, recall_score, f1_score, accuracy_score\n",
    "import pandas as pd\n",
    "from sklearn.preprocessing import LabelEncoder\n",
    "from sklearn.model_selection import train_test_split\n",
    "import time\n",
    "from datetime import datetime\n",
    "import csv\n",
    "import re"
   ]
  },
  {
   "cell_type": "code",
   "execution_count": null,
   "id": "5046409d-2a34-4c9b-a906-a4ced5d89dfc",
   "metadata": {},
   "outputs": [],
   "source": [
    "#Hyperparameters\n",
    "num_epochs = 1\n",
    "learning_rate = 5e-5\n",
    "batch_size = 16\n",
    "num_trains = 15\n",
    "validation_size = 0.1\n",
    "label_modularity = \"NewClass\"\n",
    "#bert-base-uncased, bert-large-cased\n",
    "name_model = \"bert-base-uncased\"\n",
    "\n",
    "crop_categories = True"
   ]
  },
  {
   "cell_type": "code",
   "execution_count": null,
   "id": "43131ad3-95bf-47ea-8c59-623a5ada3faf",
   "metadata": {},
   "outputs": [],
   "source": [
    "#Get documents saved in new categories and their labels\n",
    "filename = 'FinalDataset/polished_dataset_nosub_67.csv'\n",
    "name_to_save = \"nosub\"\n",
    "\n",
    "data = pd.read_csv(filename)\n",
    "\n",
    "train_data, validation_data = train_test_split(data, test_size=validation_size, random_state=42)"
   ]
  },
  {
   "cell_type": "code",
   "execution_count": null,
   "id": "d7dbd7c3-4ef2-4356-b267-83d113b24c72",
   "metadata": {},
   "outputs": [],
   "source": [
    "#GET NUMBER OF LABELS\n",
    "original_labels = train_data[label_modularity].unique().tolist()\n",
    "num_labels = num_unique_labels = train_data[label_modularity].nunique()\n",
    "print(num_labels)"
   ]
  },
  {
   "cell_type": "code",
   "execution_count": null,
   "id": "39ffa41a-9056-4bd5-95f2-2e680bf26fc1",
   "metadata": {},
   "outputs": [],
   "source": [
    "# Get total number of texts\n",
    "num_texts = train_data.shape[0]\n",
    "print(num_texts)"
   ]
  },
  {
   "cell_type": "code",
   "execution_count": null,
   "id": "dafdca3c-b1ed-4db8-b0ea-43ade980142b",
   "metadata": {},
   "outputs": [],
   "source": [
    "#Get total number of words\n",
    "all_text = ' '.join(train_data['Text'].values)\n",
    "num_words = len(all_text.split())\n",
    "print(num_words)"
   ]
  },
  {
   "cell_type": "code",
   "execution_count": null,
   "id": "7fe1814c-07e1-4156-a46e-5ca5e03263b3",
   "metadata": {},
   "outputs": [],
   "source": [
    "#Count token time\n",
    "token_start = time.time()"
   ]
  },
  {
   "cell_type": "code",
   "execution_count": null,
   "id": "60de8c0f-0b81-4ff5-a68f-1c33fe631161",
   "metadata": {},
   "outputs": [],
   "source": [
    "tokenizer = BertTokenizer.from_pretrained(name_model)\n",
    "train_encodings = tokenizer(list(train_data['Text']), truncation=True, padding=True, max_length=128)\n",
    "\n",
    "label_encoder = LabelEncoder()\n",
    "train_data[label_modularity] = label_encoder.fit_transform(train_data[label_modularity])\n",
    "labels = train_data[label_modularity].tolist()\n",
    "\n",
    "train_dataset = tf.data.Dataset.from_tensor_slices((\n",
    "    dict(train_encodings),\n",
    "    labels\n",
    "))"
   ]
  },
  {
   "cell_type": "code",
   "execution_count": null,
   "id": "ee4e0489-3716-4b7a-b797-a191b552a5a7",
   "metadata": {},
   "outputs": [],
   "source": [
    "val_encodings = tokenizer(list(validation_data['Text']), truncation=True, padding=True, max_length=128)\n",
    "\n",
    "print(tf.shape(val_encodings['input_ids']))\n",
    "\n",
    "validation_data[label_modularity] = label_encoder.fit_transform(validation_data[label_modularity])\n",
    "val_labels = validation_data[label_modularity].tolist()\n",
    "\n",
    "val_encodings = tf.convert_to_tensor(val_encodings['input_ids'])\n",
    "val_labels = tf.convert_to_tensor(val_labels)"
   ]
  },
  {
   "cell_type": "code",
   "execution_count": null,
   "id": "e8cd95b9-f9a3-467c-bb13-ad2ef46225f7",
   "metadata": {},
   "outputs": [],
   "source": [
    "token_finish = time.time()\n",
    "\n",
    "print(token_finish - token_start)"
   ]
  },
  {
   "cell_type": "code",
   "execution_count": null,
   "id": "25899825-9c70-4133-992c-35ab393be008",
   "metadata": {},
   "outputs": [],
   "source": [
    "train_start = time.time()"
   ]
  },
  {
   "cell_type": "code",
   "execution_count": null,
   "id": "c53e3ff7-cb67-4fe9-a04b-9145b32287b7",
   "metadata": {},
   "outputs": [],
   "source": [
    "model = TFBertForSequenceClassification.from_pretrained(name_model, num_labels=num_labels)\n",
    "optimizer = tf.keras.optimizers.Adam(learning_rate=learning_rate)\n",
    "loss_fn = tf.keras.losses.SparseCategoricalCrossentropy(from_logits=True)\n",
    "model.compile(optimizer=optimizer, loss=loss_fn, metrics=['accuracy'])\n",
    "history = model.fit(train_dataset.batch(batch_size), validation_data=(val_encodings, val_labels), epochs=num_epochs)"
   ]
  },
  {
   "cell_type": "code",
   "execution_count": null,
   "id": "f713f6b5-ec51-4c33-87c6-b3dfb18ed42c",
   "metadata": {},
   "outputs": [],
   "source": [
    "train_finish = time.time()\n",
    "\n",
    "print(train_finish - train_start)"
   ]
  },
  {
   "cell_type": "code",
   "execution_count": null,
   "id": "915b9f20-5baf-400d-969e-16095ea7d44f",
   "metadata": {},
   "outputs": [],
   "source": [
    "val_start = time.time()"
   ]
  },
  {
   "cell_type": "code",
   "execution_count": null,
   "id": "bd36a11a-5d5e-48b7-b7d8-e9363a7c1922",
   "metadata": {},
   "outputs": [],
   "source": [
    "val_predictions = model.predict(val_encodings)\n",
    "val_predictions = np.argmax(val_predictions.logits, axis=1)\n",
    "\n",
    "precision = precision_score(val_labels, val_predictions, average='weighted')\n",
    "recall = recall_score(val_labels, val_predictions, average='weighted')\n",
    "f1 = f1_score(val_labels, val_predictions, average='weighted')\n",
    "acc = history.history['val_accuracy'][-1]\n",
    "\n",
    "print(\"Accuracy: \"+str(acc))\n",
    "print(\"Precision: \"+str(precision))\n",
    "print(\"Recall: \"+str(recall))\n",
    "print(\"F1: \"+str(f1))\n",
    "\n",
    "with open('Results/results_2Data_'+name_model+'.txt', 'a') as file:\n",
    "    file.write(f'Accuracy: {acc}\\n')\n",
    "    file.write(f'Precision: {precision}\\n')\n",
    "    file.write(f'Recall: {recall}\\n')\n",
    "    file.write(f'F1: {f1}\\n')"
   ]
  },
  {
   "cell_type": "code",
   "execution_count": null,
   "id": "fb9ca308-3a10-429d-9cfc-44efa94a1f9b",
   "metadata": {},
   "outputs": [],
   "source": [
    "val_finish = time.time()\n",
    "\n",
    "print(val_finish - val_start)"
   ]
  },
  {
   "cell_type": "code",
   "execution_count": null,
   "id": "a39ff333-2681-47d4-9a6d-28c3be60bfcc",
   "metadata": {},
   "outputs": [],
   "source": [
    "#Save results\n",
    "csv_file = \"Results/ModelResults.csv\"\n",
    "current_date = datetime.now().strftime('%Y-%m-%d')\n",
    "\n",
    "with open(csv_file, mode='a', newline='') as file:\n",
    "    writer = csv.writer(file)\n",
    "\n",
    "    if file.tell() == 0:\n",
    "        writer.writerow(column_names)\n",
    "    \n",
    "    writer.writerow([\"BERT\", num_labels, num_texts, num_words, acc, precision, f1, recall, train_finish - train_start, val_finish - val_start, current_date, name_to_save])"
   ]
  },
  {
   "cell_type": "code",
   "execution_count": null,
   "id": "93524ae6-a0a1-43e6-ac16-bbb9d14e1c20",
   "metadata": {},
   "outputs": [],
   "source": [
    "conf_matrix = confusion_matrix(val_labels, val_predictions)\n",
    "print(\"Confusion Matrix:\")\n",
    "print(conf_matrix)\n",
    "\n",
    "#Plot confusion matrix\n",
    "plt.figure(figsize=(8, 6))\n",
    "plt.imshow(conf_matrix, interpolation='nearest', cmap=plt.cm.Blues)\n",
    "plt.title('Confusion matrix')\n",
    "plt.colorbar()\n",
    "tick_marks = np.arange(len(set(labels)))\n",
    "plt.xticks(tick_marks, set(labels), rotation=45)\n",
    "plt.yticks(tick_marks, set(labels))\n",
    "\n",
    "fmt = 'd'\n",
    "thresh = conf_matrix.max() / 2.\n",
    "for i, j in itertools.product(range(conf_matrix.shape[0]), range(conf_matrix.shape[1])):\n",
    "    plt.text(j, i, format(conf_matrix[i, j], fmt),\n",
    "             horizontalalignment=\"center\",\n",
    "             color=\"white\" if conf_matrix[i, j] > thresh else \"black\")\n",
    "\n",
    "plt.tight_layout()\n",
    "plt.ylabel('True label')\n",
    "plt.xlabel('Predicted label')\n",
    "plt.show()"
   ]
  },
  {
   "cell_type": "code",
   "execution_count": null,
   "id": "6afb994e-960a-455d-9d79-a767541d6d03",
   "metadata": {},
   "outputs": [],
   "source": [
    "#Plot training loss and accuracy\n",
    "plt.figure(figsize=(12, 5))\n",
    "\n",
    "plt.subplot(1, 2, 1)\n",
    "plt.plot(history.history['loss'], label='Training Loss')\n",
    "plt.plot(history.history['val_loss'], label='Validation Loss')\n",
    "plt.title('Training and Validation Loss')\n",
    "plt.xlabel('Epoch')\n",
    "plt.ylabel('Loss')\n",
    "plt.legend()\n",
    "\n",
    "plt.subplot(1, 2, 2)\n",
    "plt.plot(history.history['accuracy'], label='Training Accuracy')\n",
    "plt.plot(history.history['val_accuracy'], label='Validation Accuracy')\n",
    "plt.title('Training and Validation Accuracy')\n",
    "plt.xlabel('Epoch')\n",
    "plt.ylabel('Accuracy')\n",
    "plt.legend()\n",
    "\n",
    "plt.show()"
   ]
  },
  {
   "cell_type": "code",
   "execution_count": null,
   "id": "347d706a-a106-455a-acca-3c4b1af1c6a0",
   "metadata": {},
   "outputs": [],
   "source": [
    "#Get accuracy of every class\n",
    "class_accuracy = {}\n",
    "for i in range(len(label_encoder.classes_)):\n",
    "    class_name = label_encoder.classes_[i]\n",
    "    total = conf_matrix[i].sum()\n",
    "    correct = conf_matrix[i][i]\n",
    "    accuracy = correct / total if total > 0 else 0.0\n",
    "    class_accuracy[class_name] = accuracy\n",
    "\n",
    "sorted_class_accuracy = sorted(class_accuracy.items(), key=lambda x: x[1], reverse=True)\n",
    "\n",
    "print(\"Accuracy by class:\")\n",
    "for class_name, acc in sorted_class_accuracy:\n",
    "    print(f\"{class_name}: {acc}\")\n",
    "\n",
    "# General accuracy\n",
    "accuracy = accuracy_score(val_labels, val_predictions)\n",
    "print(\"General accuracy:\", accuracy)"
   ]
  },
  {
   "cell_type": "code",
   "execution_count": null,
   "id": "9fef5290-e1a5-4031-8881-bc23493b05d5",
   "metadata": {},
   "outputs": [],
   "source": [
    "cmap=plt.cm.Blues\n",
    "\n",
    "plt.figure(figsize=(14, 10))\n",
    "plt.title(\"\")\n",
    "\n",
    "plt.imshow(conf_matrix, interpolation='nearest', cmap=cmap)\n",
    "plt.colorbar()\n",
    "tick_marks = np.arange(num_labels)\n",
    "plt.xticks(tick_marks, original_labels, rotation=90)\n",
    "plt.yticks(tick_marks, original_labels)\n",
    "\n",
    "for i in range(num_labels):\n",
    "        for j in range(num_labels):\n",
    "            plt.gca().add_patch(plt.Rectangle((j - 0.5, i - 0.5), 1, 1, color='black', fill=None, linewidth=0.5))\n",
    "\n",
    "plt.xlabel('Etiqueta predicha')\n",
    "plt.ylabel('Etiqueta real')\n",
    "plt.show()"
   ]
  },
  {
   "cell_type": "code",
   "execution_count": null,
   "id": "b893e643-d5d0-400d-8461-8780b6091659",
   "metadata": {},
   "outputs": [],
   "source": [
    "model.save(\"Models/\"+name_model+\"_model\")"
   ]
  }
 ],
 "metadata": {
  "kernelspec": {
   "display_name": "Python 3 (ipykernel)",
   "language": "python",
   "name": "python3"
  },
  "language_info": {
   "codemirror_mode": {
    "name": "ipython",
    "version": 3
   },
   "file_extension": ".py",
   "mimetype": "text/x-python",
   "name": "python",
   "nbconvert_exporter": "python",
   "pygments_lexer": "ipython3",
   "version": "3.11.4"
  }
 },
 "nbformat": 4,
 "nbformat_minor": 5
}
