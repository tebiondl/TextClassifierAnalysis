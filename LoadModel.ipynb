{
 "cells": [
  {
   "cell_type": "code",
   "execution_count": 1,
   "id": "e9e14354-74ea-436a-a29d-77a0104c41d1",
   "metadata": {},
   "outputs": [
    {
     "name": "stderr",
     "output_type": "stream",
     "text": [
      "2024-03-04 05:45:37.969487: I tensorflow/core/util/port.cc:110] oneDNN custom operations are on. You may see slightly different numerical results due to floating-point round-off errors from different computation orders. To turn them off, set the environment variable `TF_ENABLE_ONEDNN_OPTS=0`.\n",
      "2024-03-04 05:45:38.085622: I tensorflow/tsl/cuda/cudart_stub.cc:28] Could not find cuda drivers on your machine, GPU will not be used.\n",
      "2024-03-04 05:45:38.626542: I tensorflow/tsl/cuda/cudart_stub.cc:28] Could not find cuda drivers on your machine, GPU will not be used.\n",
      "2024-03-04 05:45:38.628799: I tensorflow/core/platform/cpu_feature_guard.cc:182] This TensorFlow binary is optimized to use available CPU instructions in performance-critical operations.\n",
      "To enable the following instructions: AVX2 AVX512F AVX512_VNNI FMA, in other operations, rebuild TensorFlow with the appropriate compiler flags.\n",
      "2024-03-04 05:45:40.477393: W tensorflow/compiler/tf2tensorrt/utils/py_utils.cc:38] TF-TRT Warning: Could not find TensorRT\n"
     ]
    }
   ],
   "source": [
    "from tensorflow.keras.models import load_model\n",
    "from transformers import XLNetTokenizer, TFXLNetForSequenceClassification\n",
    "import tensorflow as tf\n",
    "from sklearn.model_selection import train_test_split\n",
    "import os\n",
    "import matplotlib.pyplot as plt\n",
    "import numpy as np\n",
    "from sklearn.metrics import confusion_matrix\n",
    "import itertools\n",
    "from sklearn.metrics import precision_score, recall_score, f1_score"
   ]
  },
  {
   "cell_type": "code",
   "execution_count": 2,
   "id": "1670c442-aa0c-49c2-b0b2-ee26bce8fbe7",
   "metadata": {},
   "outputs": [
    {
     "name": "stderr",
     "output_type": "stream",
     "text": [
      "2024-03-04 05:45:49.356763: W tensorflow/core/common_runtime/gpu/gpu_device.cc:1956] Cannot dlopen some GPU libraries. Please make sure the missing libraries mentioned above are installed properly if you would like to use GPU. Follow the guide at https://www.tensorflow.org/install/gpu for how to download and setup the required libraries for your platform.\n",
      "Skipping registering GPU devices...\n",
      "/opt/conda/lib/python3.11/site-packages/keras/initializers/initializers.py:120: UserWarning: The initializer TruncatedNormal is unseeded and being called multiple times, which will return identical values each time (even if the initializer is unseeded). Please update your code to provide a seed to the initializer, or avoid using the same initalizer instance more than once.\n",
      "  warnings.warn(\n"
     ]
    }
   ],
   "source": [
    "#Load model\n",
    "model = \"large\"\n",
    "model_directory = \"Models/\"+model+\"_model\"\n",
    "\n",
    "loaded_model = load_model(model_directory)"
   ]
  },
  {
   "cell_type": "code",
   "execution_count": 3,
   "id": "9a1a83eb-eeb6-4803-9017-716daf9224cb",
   "metadata": {},
   "outputs": [],
   "source": [
    "#Get documents saved in new categories and their labels\n",
    "base_folder = 'new_categories'\n",
    "\n",
    "files = []\n",
    "filenames = []\n",
    "labels = []\n",
    "\n",
    "#Search all files in folders\n",
    "for sub_folder in os.listdir(base_folder):\n",
    "    for file in os.listdir(os.path.join(base_folder,sub_folder)):\n",
    "        if file.endswith('.txt'):\n",
    "            file_path = os.path.join(base_folder,sub_folder, file)\n",
    "            filenames.append(file_path)\n",
    "            labels.append(int(sub_folder[-1]))\n",
    "            with open(file_path, 'r',encoding='utf-8', errors='ignore') as file:\n",
    "                content = file.read()\n",
    "                files.append(content)"
   ]
  },
  {
   "cell_type": "code",
   "execution_count": null,
   "id": "2993626b-31a9-41d7-99e8-bd836933e702",
   "metadata": {},
   "outputs": [
    {
     "name": "stderr",
     "output_type": "stream",
     "text": [
      "2024-03-04 05:46:45.878999: I tensorflow/core/common_runtime/executor.cc:1197] [/device:CPU:0] (DEBUG INFO) Executor start aborting (this does not indicate an error and you can ignore this message): INVALID_ARGUMENT: You must feed a value for placeholder tensor 'input_ids' with dtype int32 and shape [?,512]\n",
      "\t [[{{node input_ids}}]]\n"
     ]
    },
    {
     "name": "stdout",
     "output_type": "stream",
     "text": [
      "70/70 [==============================] - 918s 13s/step\n"
     ]
    }
   ],
   "source": [
    "tokenizer = XLNetTokenizer.from_pretrained('xlnet-'+model+'-cased')\n",
    "max_length = 512\n",
    "tokenized_inputs = tokenizer(files, truncation=True, padding=True, max_length=512, return_tensors='tf')\n",
    "\n",
    "input_ids = tokenized_inputs['input_ids']\n",
    "attention_mask = tokenized_inputs['attention_mask']\n",
    "token_type_ids = tokenized_inputs['token_type_ids'] if 'token_type_ids' in tokenized_inputs else None\n",
    "\n",
    "predictions = loaded_model.predict({'input_ids': input_ids, 'attention_mask': attention_mask, 'token_type_ids': token_type_ids})"
   ]
  },
  {
   "cell_type": "code",
   "execution_count": null,
   "id": "0913e4cf-e399-42e7-88a3-789f5855f8a1",
   "metadata": {},
   "outputs": [],
   "source": [
    "predictions = np.argmax(predictions.logits, axis=1)\n",
    "\n",
    "# Compute confusion matrix\n",
    "cm = confusion_matrix(labels, predictions)"
   ]
  },
  {
   "cell_type": "code",
   "execution_count": null,
   "id": "25e95341-c125-4faa-9a1c-856db3c830df",
   "metadata": {},
   "outputs": [],
   "source": [
    "#Plot confusion matrix\n",
    "plt.figure(figsize=(8, 6))\n",
    "plt.imshow(cm, interpolation='nearest', cmap=plt.cm.Blues)\n",
    "plt.title('Confusion matrix')\n",
    "plt.colorbar()\n",
    "tick_marks = np.arange(len(set(labels)))\n",
    "plt.xticks(tick_marks, set(labels), rotation=45)\n",
    "plt.yticks(tick_marks, set(labels))\n",
    "\n",
    "fmt = 'd'\n",
    "thresh = cm.max() / 2.\n",
    "for i, j in itertools.product(range(cm.shape[0]), range(cm.shape[1])):\n",
    "    plt.text(j, i, format(cm[i, j], fmt),\n",
    "             horizontalalignment=\"center\",\n",
    "             color=\"white\" if cm[i, j] > thresh else \"black\")\n",
    "\n",
    "plt.tight_layout()\n",
    "plt.ylabel('True label')\n",
    "plt.xlabel('Predicted label')\n",
    "plt.show()"
   ]
  },
  {
   "cell_type": "code",
   "execution_count": null,
   "id": "07a3cd13-f132-437d-bf5d-e67352ed42e5",
   "metadata": {},
   "outputs": [],
   "source": [
    "precision = precision_score(labels, predictions, average='weighted')\n",
    "recall = recall_score(labels, predictions, average='weighted')\n",
    "f1 = f1_score(labels, predictions, average='weighted')\n",
    "\n",
    "print(f'Precision: {precision}')\n",
    "print(f'Recall: {recall}')\n",
    "print(f'F1 Score: {f1}')"
   ]
  }
 ],
 "metadata": {
  "kernelspec": {
   "display_name": "Python 3 (ipykernel)",
   "language": "python",
   "name": "python3"
  },
  "language_info": {
   "codemirror_mode": {
    "name": "ipython",
    "version": 3
   },
   "file_extension": ".py",
   "mimetype": "text/x-python",
   "name": "python",
   "nbconvert_exporter": "python",
   "pygments_lexer": "ipython3",
   "version": "3.11.4"
  }
 },
 "nbformat": 4,
 "nbformat_minor": 5
}
