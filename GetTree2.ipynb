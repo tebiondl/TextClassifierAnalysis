{
 "cells": [
  {
   "cell_type": "code",
   "execution_count": null,
   "id": "7bcea386-2101-473a-a469-4ea94847a7ea",
   "metadata": {},
   "outputs": [],
   "source": [
    "!pip install anytree"
   ]
  },
  {
   "cell_type": "code",
   "execution_count": null,
   "id": "20d27f4b-e181-490e-a0bd-241339910d14",
   "metadata": {},
   "outputs": [],
   "source": [
    "import pandas as pd\n",
    "from anytree import Node, RenderTree, AsciiStyle, PreOrderIter\n",
    "from copy import deepcopy"
   ]
  },
  {
   "cell_type": "code",
   "execution_count": null,
   "id": "10cf6ecb-0923-4494-a94c-9357e4d8ab85",
   "metadata": {},
   "outputs": [],
   "source": [
    "# Level of the cut\n",
    "X = 2\n",
    "\n",
    "# Read CSV\n",
    "df = pd.read_csv('FinalDataset/DBpediaClasses.csv')"
   ]
  },
  {
   "cell_type": "code",
   "execution_count": null,
   "id": "f04041a8-6b60-43cb-acab-9a6185760531",
   "metadata": {},
   "outputs": [],
   "source": [
    "# Create dictionary to store nodes\n",
    "nodes = {}\n",
    "\n",
    "# Build the tree and the nodes\n",
    "for _, row in df.iterrows():\n",
    "    parent_name = row['SubClass']\n",
    "    child_name = row['Class']\n",
    "    \n",
    "    # Creat parent node if it does not exist\n",
    "    if parent_name not in nodes:\n",
    "        nodes[parent_name] = Node(parent_name)\n",
    "    \n",
    "    # Create children node and assign it to the parent\n",
    "    if child_name not in nodes:\n",
    "        nodes[child_name] = Node(child_name, parent=nodes[parent_name])\n",
    "    else:\n",
    "        nodes[child_name].parent = nodes[parent_name]\n",
    "\n",
    "root_nodes = [node for node in nodes.values() if node.is_root]"
   ]
  },
  {
   "cell_type": "code",
   "execution_count": null,
   "id": "e4fda78a-e375-433b-a326-4530b6e225ec",
   "metadata": {},
   "outputs": [],
   "source": [
    "# Show the tree\n",
    "for root_node in root_nodes:\n",
    "    for pre, fill, node in RenderTree(root_node, style=AsciiStyle()):\n",
    "        print(f\"{pre}{node.name}\")"
   ]
  },
  {
   "cell_type": "code",
   "execution_count": null,
   "id": "0081f006-588e-4697-99ee-09153f4a1256",
   "metadata": {},
   "outputs": [],
   "source": [
    "root_nodes_copy = deepcopy(root_nodes)"
   ]
  },
  {
   "cell_type": "code",
   "execution_count": null,
   "id": "b06eaf11-206b-4ff6-ac76-6142d46cf34c",
   "metadata": {},
   "outputs": [],
   "source": [
    "def prune_tree(node, max_depth, current_depth=1):\n",
    "    if current_depth >= max_depth:\n",
    "        node.children = []\n",
    "    else:\n",
    "        for child in node.children:\n",
    "            prune_tree(child, max_depth, current_depth + 1)\n",
    "\n",
    "# Cut the tree\n",
    "for root in root_nodes_copy:\n",
    "    prune_tree(root, X)\n",
    "\n",
    "# Show the new tree\n",
    "for pre, fill, node in RenderTree(root_nodes_copy[0]):\n",
    "    print(\"%s%s\" % (pre, node.name))"
   ]
  },
  {
   "cell_type": "code",
   "execution_count": null,
   "id": "d9c13fcc-7937-407e-af63-20116a623602",
   "metadata": {},
   "outputs": [],
   "source": [
    "df_new = pd.read_csv('FinalDataset/final_dataset.csv')"
   ]
  },
  {
   "cell_type": "code",
   "execution_count": null,
   "id": "fb4409c4-9b95-4f33-9c26-9dca57ebdf91",
   "metadata": {},
   "outputs": [],
   "source": [
    "def find_leaves(node):\n",
    "    if not node.children:\n",
    "        return [node]\n",
    "    leaves = []\n",
    "    for child in node.children:\n",
    "        leaves.extend(find_leaves(child))\n",
    "    return leaves\n",
    "\n",
    "leaves_names = []\n",
    "for root in root_nodes_copy:\n",
    "    leaves = find_leaves(root)\n",
    "    leaves_names.extend([leaf.name for leaf in leaves])\n",
    "\n",
    "print(leaves_names)"
   ]
  },
  {
   "cell_type": "code",
   "execution_count": null,
   "id": "d78fbbc4-9009-4aac-a1b8-caa9dd6cbd90",
   "metadata": {},
   "outputs": [],
   "source": [
    "filtered_df = df_new[df_new['Subclass'].isin(leaves_names)]\n",
    "\n",
    "filtered_df = filtered_df.rename(columns={'Class': 'NewClass'})\n",
    "num_labels = filtered_df['NewClass'].nunique()\n",
    "\n",
    "print(num_labels)\n",
    "\n",
    "filtered_df.to_csv('FinalDataset/polished_dataset_realsub_'+str(num_labels)+'.csv', index=False)"
   ]
  },
  {
   "cell_type": "code",
   "execution_count": null,
   "id": "329f58f6-efaf-45c1-bea5-fa71ebfbfa26",
   "metadata": {},
   "outputs": [],
   "source": []
  }
 ],
 "metadata": {
  "kernelspec": {
   "display_name": "Python 3 (ipykernel)",
   "language": "python",
   "name": "python3"
  },
  "language_info": {
   "codemirror_mode": {
    "name": "ipython",
    "version": 3
   },
   "file_extension": ".py",
   "mimetype": "text/x-python",
   "name": "python",
   "nbconvert_exporter": "python",
   "pygments_lexer": "ipython3",
   "version": "3.11.4"
  }
 },
 "nbformat": 4,
 "nbformat_minor": 5
}
