{
 "cells": [
  {
   "cell_type": "code",
   "execution_count": null,
   "id": "e0ead290-c767-44e3-a9b1-25863151d133",
   "metadata": {},
   "outputs": [],
   "source": [
    "import numpy as np\n",
    "from sklearn.metrics import accuracy_score, confusion_matrix, precision_score, recall_score, f1_score\n",
    "from sklearn.feature_extraction.text import TfidfVectorizer\n",
    "from sklearn.naive_bayes import MultinomialNB\n",
    "from sklearn.svm import SVC\n",
    "from sklearn.neighbors import KNeighborsClassifier\n",
    "from sklearn.ensemble import RandomForestClassifier\n",
    "from sklearn.linear_model import LogisticRegression\n",
    "from sklearn.preprocessing import LabelEncoder\n",
    "from sklearn import datasets\n",
    "from sklearn.model_selection import train_test_split\n",
    "import pandas as pd\n",
    "import numpy as np\n",
    "import matplotlib.pyplot as plt\n",
    "import seaborn as sns\n",
    "import time\n",
    "import csv\n",
    "from datetime import datetime\n",
    "import re"
   ]
  },
  {
   "cell_type": "code",
   "execution_count": null,
   "id": "18a9008d-0b92-4de7-a341-0dc7308154d6",
   "metadata": {},
   "outputs": [],
   "source": [
    "label_modularity = \"NewClass\"\n",
    "model = \"All\"\n",
    "validation_size = 0.1"
   ]
  },
  {
   "cell_type": "code",
   "execution_count": null,
   "id": "3f4b713f-9a67-4914-8a70-7ff9f3307405",
   "metadata": {},
   "outputs": [],
   "source": [
    "def select_model(model):\n",
    "    models = []\n",
    "    \n",
    "    if model == \"NB\" or model == \"All\":\n",
    "        models.append({\n",
    "            \"m\": MultinomialNB(),\n",
    "            \"name\": \"Naive Bayes\"\n",
    "        })\n",
    "    if model == \"SVM\" or model == \"All\":\n",
    "        models.append({\n",
    "            \"m\": SVC(kernel=\"linear\", random_state=42),\n",
    "            \"name\": \"SVM\"\n",
    "        })\n",
    "    if model == \"RF\" or model == \"All\":\n",
    "        models.append({\n",
    "            \"m\": RandomForestClassifier(n_estimators=100, random_state=42),\n",
    "            \"name\": \"Random Forest\"\n",
    "        })\n",
    "    if model == \"KNN\" or model == \"All\":\n",
    "        models.append({\n",
    "            \"m\": KNeighborsClassifier(n_neighbors=5),\n",
    "            \"name\": \"KNN\"\n",
    "        })\n",
    "    if model == \"LR\" or model == \"All\":\n",
    "        models.append({\n",
    "            \"m\": LogisticRegression(),\n",
    "            \"name\": \"LR\"\n",
    "        })\n",
    "\n",
    "    if len(models) == 0:\n",
    "        models.append({\n",
    "            \"m\": MultinomialNB(),\n",
    "            \"name\": \"Naive Bayes\"\n",
    "        })\n",
    "        \n",
    "    return models"
   ]
  },
  {
   "cell_type": "code",
   "execution_count": null,
   "id": "13b71b41-b973-4f0b-b704-e6abac62a351",
   "metadata": {},
   "outputs": [],
   "source": [
    "filename = 'FinalDataset/polished_dataset_nosub_67.csv'\n",
    "name_to_save = \"nosub\"\n",
    "\n",
    "data = pd.read_csv(filename)\n",
    "\n",
    "train_data, validation_data = train_test_split(data, test_size=validation_size, random_state=42)"
   ]
  },
  {
   "cell_type": "code",
   "execution_count": null,
   "id": "0773cfcf-49e1-43aa-a5cc-6fcc89346524",
   "metadata": {},
   "outputs": [],
   "source": [
    "#GET NUMBER OF LABELS\n",
    "original_labels = train_data[label_modularity].unique().tolist()\n",
    "num_labels = train_data[label_modularity].nunique()\n",
    "print(num_labels)"
   ]
  },
  {
   "cell_type": "code",
   "execution_count": null,
   "id": "d48e95ce-9329-4a0e-8194-3a74c402283f",
   "metadata": {},
   "outputs": [],
   "source": [
    "# Get total number of texts\n",
    "num_texts = train_data.shape[0]\n",
    "print(num_texts)"
   ]
  },
  {
   "cell_type": "code",
   "execution_count": null,
   "id": "295d1fd5-735b-4d71-a435-52689ae49cef",
   "metadata": {},
   "outputs": [],
   "source": [
    "#Get total number of words\n",
    "all_text = ' '.join(train_data['Text'].values)\n",
    "num_words = len(all_text.split())\n",
    "print(num_words)"
   ]
  },
  {
   "cell_type": "code",
   "execution_count": null,
   "id": "0a539928-d435-4e4f-aa03-8fe03befa87b",
   "metadata": {},
   "outputs": [],
   "source": [
    "#Calculate Z\n",
    "z = num_texts / (num_words/num_texts)\n",
    "print(z)"
   ]
  },
  {
   "cell_type": "code",
   "execution_count": null,
   "id": "129f57bf-669f-4b3d-a8f1-4d353a565fe7",
   "metadata": {},
   "outputs": [],
   "source": [
    "#Count token time\n",
    "token_start = time.time()"
   ]
  },
  {
   "cell_type": "code",
   "execution_count": null,
   "id": "e60a108e-0646-4bcd-9826-54d30c70db01",
   "metadata": {},
   "outputs": [],
   "source": [
    "label_encoder = LabelEncoder()\n",
    "train_data[label_modularity] = label_encoder.fit_transform(train_data[label_modularity])\n",
    "labels = train_data[label_modularity].tolist()\n",
    "\n",
    "validation_data[label_modularity] = label_encoder.fit_transform(validation_data[label_modularity])\n",
    "val_labels = validation_data[label_modularity].tolist()"
   ]
  },
  {
   "cell_type": "code",
   "execution_count": null,
   "id": "49aa4175-140a-4754-924e-de222da07957",
   "metadata": {},
   "outputs": [],
   "source": [
    "vectorizer = TfidfVectorizer(max_features=1000, stop_words='english', lowercase=True)\n",
    "train_features = vectorizer.fit_transform(train_data['Text'])\n",
    "validation_features = vectorizer.transform(validation_data['Text'])"
   ]
  },
  {
   "cell_type": "code",
   "execution_count": null,
   "id": "8b579cb0-7d27-401e-be92-0b4acb032417",
   "metadata": {},
   "outputs": [],
   "source": [
    "token_finish = time.time()\n",
    "\n",
    "print(token_finish - token_start)"
   ]
  },
  {
   "cell_type": "code",
   "execution_count": null,
   "id": "3ee321d2-d02f-4550-ab9b-7609870af76b",
   "metadata": {},
   "outputs": [],
   "source": [
    "# Select any model\n",
    "classifiers = select_model(model)\n",
    "\n",
    "for c in classifiers:\n",
    "    train_start = time.time()\n",
    "    c[\"m\"].fit(train_features, labels)\n",
    "    train_finish = time.time()\n",
    "    print(\"Train Time \"+c[\"name\"]+\": \"+ str(train_finish - train_start))\n",
    "\n",
    "    val_start = time.time()\n",
    "    \n",
    "    val_predictions = c[\"m\"].predict(validation_features)\n",
    "    accuracy = accuracy_score(val_labels, val_predictions)\n",
    "    precision = precision_score(val_labels, val_predictions, average='weighted')\n",
    "    recall = recall_score(val_labels, val_predictions, average='weighted')\n",
    "    f1 = f1_score(val_labels, val_predictions, average='weighted')\n",
    "    \n",
    "    print(f\"Accuracy: {accuracy:.4f}\")\n",
    "    print(f\"Precision: {precision:.4f}\")\n",
    "    print(f\"Recall: {recall:.4f}\")\n",
    "    print(f\"F1-score: {f1:.4f}\")\n",
    "\n",
    "    val_finish = time.time()\n",
    "    print(\"Validation Time \"+c[\"name\"]+\": \"+ str(val_finish - val_start))\n",
    "\n",
    "    #Save results\n",
    "    csv_file = \"Results/ModelResults.csv\"\n",
    "    current_date = datetime.now().strftime('%Y-%m-%d')\n",
    "    column_names = [\"Model Name\", \"Num Classes\", \"Total Texts\", \"Total Words\", \"Accuracy\", \"Precision\", \"F1 Score\", \"Recall\", \"Train Time\", \"Validation Time\", \"Date\"]\n",
    "\n",
    "\n",
    "    with open(csv_file, mode='a', newline='') as file:\n",
    "        writer = csv.writer(file)\n",
    "\n",
    "        if file.tell() == 0:\n",
    "            writer.writerow(column_names)\n",
    "        \n",
    "        writer.writerow([c[\"name\"], num_labels, num_texts, num_words, accuracy, precision, f1, recall, train_finish - train_start, val_finish - val_start, current_date, name_to_save])"
   ]
  },
  {
   "cell_type": "code",
   "execution_count": null,
   "id": "b7cc8240-da5d-48ff-bea0-cbbe81b0caa8",
   "metadata": {},
   "outputs": [],
   "source": [
    "conf_matrix = confusion_matrix(val_labels, val_predictions)"
   ]
  },
  {
   "cell_type": "code",
   "execution_count": null,
   "id": "a6a739bf-81e6-4046-b99f-48e919f09de8",
   "metadata": {},
   "outputs": [],
   "source": [
    "class_accuracy = {}\n",
    "for i in range(len(label_encoder.classes_)):\n",
    "    class_name = label_encoder.classes_[i]\n",
    "    total = conf_matrix[i].sum()\n",
    "    correct = conf_matrix[i][i]\n",
    "    accuracy = correct / total if total > 0 else 0.0\n",
    "    class_accuracy[class_name] = accuracy"
   ]
  },
  {
   "cell_type": "code",
   "execution_count": null,
   "id": "f9e24c52-9ae8-45be-9f2a-3dbf583d2524",
   "metadata": {},
   "outputs": [],
   "source": [
    "# Accuracy by class\n",
    "sorted_class_accuracy = sorted(class_accuracy.items(), key=lambda x: x[1], reverse=True)\n",
    "\n",
    "print(\"Accuracy by class:\")\n",
    "for class_name, acc in sorted_class_accuracy:\n",
    "    print(f\"{class_name}: {acc}\")\n",
    "\n",
    "# General accuracy\n",
    "accuracy = accuracy_score(val_labels, val_predictions)\n",
    "print(\"General Accuracy:\", accuracy)"
   ]
  },
  {
   "cell_type": "code",
   "execution_count": null,
   "id": "84f99aac-4736-405b-9550-353680059ee4",
   "metadata": {},
   "outputs": [],
   "source": [
    "normalize=False\n",
    "cmap=plt.cm.Blues\n",
    "\n",
    "plt.figure(figsize=(14, 10))\n",
    "plt.title(\"\")\n",
    "\n",
    "plt.imshow(conf_matrix, interpolation='nearest', cmap=cmap)\n",
    "plt.colorbar()\n",
    "tick_marks = np.arange(num_labels)\n",
    "plt.xticks(tick_marks, original_labels, rotation=90)\n",
    "plt.yticks(tick_marks, original_labels)\n",
    "\n",
    "for i in range(num_labels):\n",
    "        for j in range(num_labels):\n",
    "            plt.gca().add_patch(plt.Rectangle((j - 0.5, i - 0.5), 1, 1, color='black', fill=None, linewidth=0.5))\n",
    "\n",
    "plt.xlabel('Predicted Label')\n",
    "plt.ylabel('Real Label')\n",
    "plt.show()"
   ]
  },
  {
   "cell_type": "code",
   "execution_count": null,
   "id": "cb577e8c-58f4-4db9-8802-36cb3954e30f",
   "metadata": {},
   "outputs": [],
   "source": []
  }
 ],
 "metadata": {
  "kernelspec": {
   "display_name": "Python 3 (ipykernel)",
   "language": "python",
   "name": "python3"
  },
  "language_info": {
   "codemirror_mode": {
    "name": "ipython",
    "version": 3
   },
   "file_extension": ".py",
   "mimetype": "text/x-python",
   "name": "python",
   "nbconvert_exporter": "python",
   "pygments_lexer": "ipython3",
   "version": "3.11.4"
  }
 },
 "nbformat": 4,
 "nbformat_minor": 5
}
