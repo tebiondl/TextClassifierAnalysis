{
 "cells": [
  {
   "cell_type": "code",
   "execution_count": null,
   "id": "69b3d36a-1e37-40a3-8cbb-d2c0e87f5a31",
   "metadata": {},
   "outputs": [],
   "source": [
    "import pandas as pd\n",
    "import matplotlib.pyplot as plt\n",
    "from collections import Counter\n",
    "import re"
   ]
  },
  {
   "cell_type": "code",
   "execution_count": null,
   "id": "06b21ed8-fa6a-45e3-9d6a-10af42b1da64",
   "metadata": {},
   "outputs": [],
   "source": [
    "label_modularity = \"NewClass\""
   ]
  },
  {
   "cell_type": "code",
   "execution_count": null,
   "id": "74687691-b134-41bd-a027-68f50c7f2693",
   "metadata": {},
   "outputs": [],
   "source": [
    "train_filename = 'FinalDataset/polished_dataset_94_20000_limited_texts_down_2000.csv'\n",
    "train_data = pd.read_csv(train_filename)"
   ]
  },
  {
   "cell_type": "code",
   "execution_count": null,
   "id": "47fe3d6c-8cc1-4c8f-a2f0-46de2e71e418",
   "metadata": {},
   "outputs": [],
   "source": [
    "#Count labels and empty texts\n",
    "num_labels = num_unique_labels = train_data[label_modularity].nunique()\n",
    "print(\"NUM LABELS\")\n",
    "print(num_labels)\n",
    "empty_text_count = (train_data['Text'] == '').sum()\n",
    "print(\"EMPTY TEXTS\")\n",
    "print(empty_text_count)\n",
    "num_rows = train_data.shape[0]\n",
    "print(\"NUM TEXTS\")\n",
    "print(num_rows)\n",
    "all_text = ' '.join(train_data['Text'].values)\n",
    "num_words = len(all_text.split())\n",
    "print(\"NUM WORDS\")\n",
    "print(num_words)"
   ]
  },
  {
   "cell_type": "code",
   "execution_count": null,
   "id": "e04fb071-b1fa-4c9c-8b9e-23c84c065f43",
   "metadata": {},
   "outputs": [],
   "source": [
    "#Calculate Z\n",
    "z = num_rows / (num_words/num_rows)\n",
    "print(z)"
   ]
  },
  {
   "cell_type": "code",
   "execution_count": null,
   "id": "b889bbe9-4cf6-491b-a452-bb6e57e8fe10",
   "metadata": {},
   "outputs": [],
   "source": [
    "#Count texts of each category\n",
    "category_counts = train_data[label_modularity].value_counts()\n",
    "print(\"Número de textos por categoría:\")\n",
    "pd.set_option('display.max_rows', None)\n",
    "total_count = category_counts.sum()\n",
    "print(category_counts)\n",
    "pd.reset_option('display.max_rows')"
   ]
  },
  {
   "cell_type": "code",
   "execution_count": null,
   "id": "154fb180-9e01-42a2-88b0-fdd833bd7cac",
   "metadata": {},
   "outputs": [],
   "source": [
    "#Plot text amounts\n",
    "plt.figure(figsize=(14, 6))\n",
    "category_counts.plot(kind='bar', color='skyblue')\n",
    "plt.title('Texts per category')\n",
    "plt.xlabel('Category')\n",
    "plt.ylabel('Text amount')\n",
    "plt.xticks(rotation=90)\n",
    "plt.show()"
   ]
  },
  {
   "cell_type": "code",
   "execution_count": null,
   "id": "d3e54554-5c5c-4e44-a6ba-3fe453e0f1cb",
   "metadata": {},
   "outputs": [],
   "source": [
    "#Find the shortest and largest text\n",
    "min_length = train_data['Text'].apply(len).min()\n",
    "max_length = train_data['Text'].apply(len).max()\n",
    "print(f\"Longitud del texto más corto: {min_length} caracteres\")\n",
    "print(f\"Longitud del texto más largo: {max_length} caracteres\")"
   ]
  },
  {
   "cell_type": "code",
   "execution_count": null,
   "id": "38a80708-ee87-4c56-b3ff-2a0f5c883f6a",
   "metadata": {},
   "outputs": [],
   "source": [
    "#Find the class with more text and the class with less\n",
    "\n",
    "word_counts_by_category = {}\n",
    "\n",
    "for index, row in train_data.iterrows():\n",
    "    text = row['Text']\n",
    "    category = row[label_modularity]\n",
    "    \n",
    "    words = re.findall(r'\\w+', str(text).lower())\n",
    "\n",
    "    word_count = len(words)\n",
    "    \n",
    "    if category in word_counts_by_category:\n",
    "        word_counts_by_category[category] += word_count\n",
    "    else:\n",
    "        word_counts_by_category[category] = word_count\n",
    "\n",
    "category_word_counts = [(category, total_words) for category, total_words in word_counts_by_category.items()]\n",
    "\n",
    "category_word_counts_sorted = sorted(category_word_counts, key=lambda x: x[1], reverse=True)\n",
    "\n",
    "for category, total_words in category_word_counts_sorted:\n",
    "    print(f'Category: {category}, Total words: {total_words}')"
   ]
  },
  {
   "cell_type": "code",
   "execution_count": null,
   "id": "e45740bc-9de5-46de-8b7a-ade9a9232d3a",
   "metadata": {},
   "outputs": [],
   "source": [
    "suma = sum(word_counts_by_category.values())\n",
    "\n",
    "print(\"The sum up of all words is:\", suma)"
   ]
  },
  {
   "cell_type": "code",
   "execution_count": null,
   "id": "5056421c-3cd4-4637-8f19-4b8c61201237",
   "metadata": {},
   "outputs": [],
   "source": [
    "#Plot text amounts\n",
    "\n",
    "words = [item[0] for item in category_word_counts_sorted]\n",
    "values = [item[1] for item in category_word_counts_sorted]\n",
    "\n",
    "plt.figure(figsize=(14, 5))\n",
    "plt.bar(words, values, color='skyblue')\n",
    "plt.title('Words per category')\n",
    "plt.xlabel('Category')\n",
    "plt.ylabel('Word amount')\n",
    "plt.xticks(rotation=90)\n",
    "plt.show()"
   ]
  },
  {
   "cell_type": "code",
   "execution_count": null,
   "id": "5315fafb-4204-49f2-8bff-0cc3b57e5a7e",
   "metadata": {},
   "outputs": [],
   "source": [
    "#Average words per text for every class\n",
    "train_data['word_count'] = train_data['Text'].apply(lambda x: len(x.split()))\n",
    "mean_word_count_per_class = train_data.groupby('NewClass')['word_count'].mean()\n",
    "\n",
    "plt.figure(figsize=(13, 6))\n",
    "mean_word_count_per_class.plot(kind='bar', color='skyblue')\n",
    "plt.title('Average words per tex for each class')\n",
    "plt.xlabel('Class')\n",
    "plt.ylabel('Average words per text')\n",
    "plt.xticks(rotation=90)\n",
    "plt.grid(axis='y', linestyle='--', alpha=0.7)\n",
    "plt.tight_layout()\n",
    "plt.show()"
   ]
  },
  {
   "cell_type": "code",
   "execution_count": null,
   "id": "9d0881c3-702f-4f30-9eb0-ec4965f0c6df",
   "metadata": {},
   "outputs": [],
   "source": []
  }
 ],
 "metadata": {
  "kernelspec": {
   "display_name": "Python 3 (ipykernel)",
   "language": "python",
   "name": "python3"
  },
  "language_info": {
   "codemirror_mode": {
    "name": "ipython",
    "version": 3
   },
   "file_extension": ".py",
   "mimetype": "text/x-python",
   "name": "python",
   "nbconvert_exporter": "python",
   "pygments_lexer": "ipython3",
   "version": "3.11.4"
  }
 },
 "nbformat": 4,
 "nbformat_minor": 5
}
