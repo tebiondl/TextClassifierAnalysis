{
 "cells": [
  {
   "cell_type": "code",
   "execution_count": null,
   "id": "2451d061-7d6d-4645-8395-f43903190361",
   "metadata": {},
   "outputs": [
    {
     "name": "stdout",
     "output_type": "stream",
     "text": [
      "\u001b[33mWARNING: The directory '/home/jovyan/.cache/pip' or its parent directory is not owned or is not writable by the current user. The cache has been disabled. Check the permissions and owner of that directory. If executing pip with sudo, you should use sudo's -H flag.\u001b[0m\u001b[33m\n",
      "\u001b[0mRequirement already satisfied: scikit-learn in /opt/conda/lib/python3.11/site-packages (1.3.0)\n",
      "Requirement already satisfied: numpy>=1.17.3 in /opt/conda/lib/python3.11/site-packages (from scikit-learn) (1.23.5)\n",
      "Requirement already satisfied: scipy>=1.5.0 in /opt/conda/lib/python3.11/site-packages (from scikit-learn) (1.11.1)\n",
      "Requirement already satisfied: joblib>=1.1.1 in /opt/conda/lib/python3.11/site-packages (from scikit-learn) (1.3.0)\n",
      "Requirement already satisfied: threadpoolctl>=2.0.0 in /opt/conda/lib/python3.11/site-packages (from scikit-learn) (3.1.0)\n"
     ]
    }
   ],
   "source": [
    "!pip install scikit-learn\n",
    "!pip install nltk\n",
    "!pip install matplotlib"
   ]
  },
  {
   "cell_type": "code",
   "execution_count": null,
   "id": "29bf6066-a817-438d-a286-e18bd60f2b2c",
   "metadata": {},
   "outputs": [],
   "source": [
    "import os\n",
    "from nltk.tokenize import word_tokenize\n",
    "from sklearn.feature_extraction.text import CountVectorizer\n",
    "from sklearn.feature_extraction.text import TfidfTransformer\n",
    "from scipy.cluster.hierarchy import linkage, dendrogram\n",
    "import matplotlib.pyplot as plt\n",
    "from scipy.cluster.hierarchy import fcluster\n",
    "import shutil"
   ]
  },
  {
   "cell_type": "code",
   "execution_count": null,
   "id": "75fd8724-6299-42a2-b95d-a54332ee2a51",
   "metadata": {},
   "outputs": [],
   "source": [
    "base_folder = 'bbc'\n",
    "\n",
    "files = []\n",
    "filenames = []\n",
    "\n",
    "#Search all files in folders\n",
    "for sub_folder in os.listdir(base_folder):\n",
    "    for file in os.listdir(os.path.join(base_folder,sub_folder)):\n",
    "        if file.endswith('.txt'):\n",
    "            file_path = os.path.join(base_folder,sub_folder, file)\n",
    "            filenames.append(file_path)\n",
    "            with open(file_path, 'r', encoding='utf-8', errors='ignore') as file:\n",
    "                content = file.read()\n",
    "                files.append(content)"
   ]
  },
  {
   "cell_type": "code",
   "execution_count": null,
   "id": "a4842d20-08a2-4223-8c7a-d0acc06e68fa",
   "metadata": {},
   "outputs": [],
   "source": [
    "print(len(files))"
   ]
  },
  {
   "cell_type": "code",
   "execution_count": null,
   "id": "e8affb9f-a6e6-4e13-a6ba-e9e127751f42",
   "metadata": {},
   "outputs": [],
   "source": [
    "#Tokenize\n",
    "token_files = [word_tokenize(doc.lower()) for doc in files]\n",
    "\n",
    "#Create tf matrix\n",
    "vectorizer = CountVectorizer()\n",
    "tf_matrix = vectorizer.fit_transform([' '.join(doc) for doc in token_files])\n",
    "\n",
    "vocabulario = vectorizer.get_feature_names_out()"
   ]
  },
  {
   "cell_type": "code",
   "execution_count": null,
   "id": "511e60b2-1d25-4288-9c47-97ed4c3587bf",
   "metadata": {},
   "outputs": [],
   "source": [
    "#Print the tf matrix and vocab\n",
    "print(\"Matriz TF:\")\n",
    "print(tf_matrix.toarray())\n",
    "print(\"\\nVocabulario:\")\n",
    "print(vocabulario)"
   ]
  },
  {
   "cell_type": "code",
   "execution_count": null,
   "id": "3715501b-6046-492c-9f32-0d594a375a9d",
   "metadata": {},
   "outputs": [],
   "source": [
    "#Transform tf matrix to idf matrix\n",
    "transformer = TfidfTransformer()\n",
    "tfidf_matrix = transformer.fit_transform(tf_matrix)"
   ]
  },
  {
   "cell_type": "code",
   "execution_count": null,
   "id": "8139fb36-959e-4662-ad41-1bd2256fe1e1",
   "metadata": {},
   "outputs": [],
   "source": [
    "#Print tfidfmatrix\n",
    "print(\"Matriz TF-IDF:\")\n",
    "print(tfidf_matrix.toarray())"
   ]
  },
  {
   "cell_type": "code",
   "execution_count": null,
   "id": "302db682-c725-4b68-a0e2-75e8b72efeaa",
   "metadata": {},
   "outputs": [],
   "source": [
    "#Create the distance matrix\n",
    "dis_matrix = linkage(tfidf_matrix.toarray(), method='ward')\n",
    "# Determine the cut height to achieve 5 clusters\n",
    "num_clusters = 5\n",
    "clusters = fcluster(dis_matrix, num_clusters, criterion='maxclust')"
   ]
  },
  {
   "cell_type": "code",
   "execution_count": null,
   "id": "3474a2a4-3cb0-4a1d-8096-2a099f025c51",
   "metadata": {},
   "outputs": [],
   "source": [
    "#Print the cluster assignments\n",
    "print(\"\\nAsignaciones de clúster:\")\n",
    "print(clusters)"
   ]
  },
  {
   "cell_type": "code",
   "execution_count": null,
   "id": "18a47724-d942-4330-9d0b-a642b23e838a",
   "metadata": {},
   "outputs": [],
   "source": [
    "# Visualize the dendrogram with cut lines for 5 clusters\n",
    "plt.figure(figsize=(10, 7))\n",
    "plt.title('Dendrograma Jerárquico con 5 Grupos')\n",
    "plt.xlabel('Índice del Documento')\n",
    "plt.ylabel('Distancia')\n",
    "dendrogram(dis_matrix, truncate_mode='level', p=5, leaf_rotation=90., leaf_font_size=8)\n",
    "plt.axhline(y=dis_matrix[-(num_clusters - 1), 2], color='r', linestyle='--')  # Horizontal line at cut height\n",
    "plt.show()"
   ]
  },
  {
   "cell_type": "code",
   "execution_count": null,
   "id": "633cf616-1253-48fd-811b-eda18889035b",
   "metadata": {},
   "outputs": [],
   "source": [
    "#Separate dendrogram groups into diferent lists\n",
    "labels = fcluster(dis_matrix, num_clusters, criterion='maxclust')\n",
    "num_grups = max(labels)\n",
    "groups = [[] for _ in range(num_grups)]\n",
    "final_groups = [[] for _ in range(num_grups)]\n",
    "\n",
    "for i, label in enumerate(labels):\n",
    "    groups[label - 1].append(i)  #Fcluster starts with 1\n",
    "    final_groups[label - 1].append(filenames[i])"
   ]
  },
  {
   "cell_type": "code",
   "execution_count": null,
   "id": "2c4947f6-8f3a-4242-8c84-b7f256bc221c",
   "metadata": {},
   "outputs": [],
   "source": [
    "#Delete new_categories existing folders\n",
    "new_folder_path = \"new_categories/\"\n",
    "folders = os.listdir(new_folder_path)\n",
    "\n",
    "for folder in folders:\n",
    "    final_path = os.path.join(new_folder_path, folder)\n",
    "    if os.path.isdir(final_path):\n",
    "        try:\n",
    "            shutil.rmtree(final_path)\n",
    "        except Exception as e:\n",
    "            print(f'Error deleting {final_path}: {str(e)}')"
   ]
  },
  {
   "cell_type": "code",
   "execution_count": null,
   "id": "15f9310b-4fcf-45a5-b398-9cb85848256f",
   "metadata": {},
   "outputs": [],
   "source": [
    "#Copy files of different groups into new folders\n",
    "\n",
    "folder_paths = []\n",
    "\n",
    "for i in range(len(final_groups)):\n",
    "    os.makedirs(new_folder_path + \"category_\" + str(i), exist_ok=True)\n",
    "    folder_paths.append(new_folder_path + \"category_\" + str(i))\n",
    "\n",
    "j = 0\n",
    "for group in groups:\n",
    "    for element in group:\n",
    "        shutil.copy(filenames[element], folder_paths[j])\n",
    "    j+=1"
   ]
  },
  {
   "cell_type": "code",
   "execution_count": null,
   "id": "d13d2768-1fcd-49af-bbc9-50e437ebd479",
   "metadata": {},
   "outputs": [],
   "source": []
  }
 ],
 "metadata": {
  "kernelspec": {
   "display_name": "Python 3 (ipykernel)",
   "language": "python",
   "name": "python3"
  },
  "language_info": {
   "codemirror_mode": {
    "name": "ipython",
    "version": 3
   },
   "file_extension": ".py",
   "mimetype": "text/x-python",
   "name": "python",
   "nbconvert_exporter": "python",
   "pygments_lexer": "ipython3",
   "version": "3.11.4"
  }
 },
 "nbformat": 4,
 "nbformat_minor": 5
}
