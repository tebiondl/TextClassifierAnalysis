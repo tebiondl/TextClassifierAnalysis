{
 "cells": [
  {
   "cell_type": "code",
   "execution_count": null,
   "id": "97ed04f4-01e1-43cd-a01a-0ed6db3d96f4",
   "metadata": {},
   "outputs": [],
   "source": [
    "!pip install anytree"
   ]
  },
  {
   "cell_type": "code",
   "execution_count": null,
   "id": "8d4b2121-8b83-44d4-8aa1-b4550acff2a0",
   "metadata": {},
   "outputs": [],
   "source": [
    "import pandas as pd\n",
    "from anytree import Node, RenderTree, AsciiStyle, PreOrderIter\n",
    "from copy import deepcopy"
   ]
  },
  {
   "cell_type": "code",
   "execution_count": null,
   "id": "24a35058-f3c3-4d20-b7ae-110f1faa4e97",
   "metadata": {},
   "outputs": [],
   "source": [
    "# Level of the cut\n",
    "X = 2\n",
    "\n",
    "# Read CSV\n",
    "df = pd.read_csv('FinalDataset/DBpediaClasses.csv')"
   ]
  },
  {
   "cell_type": "code",
   "execution_count": null,
   "id": "58b8729d-dd32-4395-af35-7f01884a293a",
   "metadata": {},
   "outputs": [],
   "source": [
    "# Create dictionary to store nodes\n",
    "nodes = {}\n",
    "\n",
    "# Build the tree and the nodes\n",
    "for _, row in df.iterrows():\n",
    "    parent_name = row['SubClass']\n",
    "    child_name = row['Class']\n",
    "    \n",
    "    # Creat parent node if it does not exist\n",
    "    if parent_name not in nodes:\n",
    "        nodes[parent_name] = Node(parent_name)\n",
    "    \n",
    "    # Create children node and assign it to the parent\n",
    "    if child_name not in nodes:\n",
    "        nodes[child_name] = Node(child_name, parent=nodes[parent_name])\n",
    "    else:\n",
    "        nodes[child_name].parent = nodes[parent_name]\n",
    "\n",
    "root_nodes = [node for node in nodes.values() if node.is_root]"
   ]
  },
  {
   "cell_type": "code",
   "execution_count": null,
   "id": "575a6400-0ab6-4f6f-b5a0-1138a75dfb80",
   "metadata": {},
   "outputs": [],
   "source": [
    "# Show the tree\n",
    "for root_node in root_nodes:\n",
    "    for pre, fill, node in RenderTree(root_node, style=AsciiStyle()):\n",
    "        print(f\"{pre}{node.name}\")"
   ]
  },
  {
   "cell_type": "code",
   "execution_count": null,
   "id": "e05ddba1-2fda-4025-bd16-9d78bcf54574",
   "metadata": {},
   "outputs": [],
   "source": [
    "root_nodes_copy = deepcopy(root_nodes)"
   ]
  },
  {
   "cell_type": "code",
   "execution_count": null,
   "id": "e7bd22ae-b502-4006-8e3d-63d4f0c3ca17",
   "metadata": {},
   "outputs": [],
   "source": [
    "def prune_tree(node, max_depth, current_depth=1):\n",
    "    if current_depth >= max_depth:\n",
    "        node.children = []\n",
    "    else:\n",
    "        for child in node.children:\n",
    "            prune_tree(child, max_depth, current_depth + 1)\n",
    "\n",
    "# Cut the tree\n",
    "for root in root_nodes_copy:\n",
    "    prune_tree(root, X)\n",
    "\n",
    "# Show the new tree\n",
    "for pre, fill, node in RenderTree(root_nodes_copy[0]):\n",
    "    print(\"%s%s\" % (pre, node.name))"
   ]
  },
  {
   "cell_type": "code",
   "execution_count": null,
   "id": "d37e6c15-629c-47dc-a119-01723fd4aa9d",
   "metadata": {},
   "outputs": [],
   "source": [
    "df_new = pd.read_csv('FinalDataset/final_dataset.csv')"
   ]
  },
  {
   "cell_type": "code",
   "execution_count": null,
   "id": "7eda08eb-00b1-4e38-a61a-ca73d39c8468",
   "metadata": {},
   "outputs": [],
   "source": [
    "def get_new_class(node, podado_root):\n",
    "    current_node = node\n",
    "    while current_node and not any(p.name == current_node.name for p in podado_root.descendants):\n",
    "        current_node = current_node.parent\n",
    "    return current_node.name if current_node else None\n",
    "\n",
    "nodes = {node.name: node for node in root_nodes[0].descendants}\n",
    "nodes[root.name] = root\n",
    "\n",
    "df_new['NewClass'] = df_new['Class'].apply(lambda x: get_new_class(nodes[x], root_nodes_copy[0]))\n",
    "num_labels = num_unique_labels = df_new['NewClass'].nunique()"
   ]
  },
  {
   "cell_type": "code",
   "execution_count": null,
   "id": "f676e59b-cc79-4de1-87ce-604286e5c013",
   "metadata": {},
   "outputs": [],
   "source": [
    "print(df_new)"
   ]
  },
  {
   "cell_type": "code",
   "execution_count": null,
   "id": "e146a581-9160-4331-9d8b-4365b5e93266",
   "metadata": {},
   "outputs": [],
   "source": [
    "df_new.to_csv('FinalDataset/polished_dataset_'+str(num_labels)+'.csv', index=False)"
   ]
  }
 ],
 "metadata": {
  "kernelspec": {
   "display_name": "Python 3 (ipykernel)",
   "language": "python",
   "name": "python3"
  },
  "language_info": {
   "codemirror_mode": {
    "name": "ipython",
    "version": 3
   },
   "file_extension": ".py",
   "mimetype": "text/x-python",
   "name": "python",
   "nbconvert_exporter": "python",
   "pygments_lexer": "ipython3",
   "version": "3.11.4"
  }
 },
 "nbformat": 4,
 "nbformat_minor": 5
}
