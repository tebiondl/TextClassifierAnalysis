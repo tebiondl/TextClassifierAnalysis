{
 "cells": [
  {
   "cell_type": "code",
   "execution_count": null,
   "id": "e53344fe-9fa0-479d-b9a9-49bc3aa3f581",
   "metadata": {},
   "outputs": [],
   "source": [
    "import matplotlib.pyplot as plt\n",
    "import seaborn as sns\n",
    "import pandas as pd\n",
    "from mpl_toolkits.mplot3d import Axes3D\n",
    "import copy\n",
    "from datetime import datetime\n",
    "import csv"
   ]
  },
  {
   "cell_type": "code",
   "execution_count": null,
   "id": "a7c4ba49-5558-4233-ab8b-be3eac8e91ee",
   "metadata": {},
   "outputs": [],
   "source": [
    "def filtrar_datos(file_path, dataset_name, lista_num_clases):\n",
    "    df = pd.read_csv(file_path)\n",
    "    df_filtrado = df[df['Dataset'] == dataset_name]\n",
    "    \n",
    "    idx = df_filtrado.groupby(['Model Name', 'Num Classes'])['Accuracy'].idxmax()\n",
    "    df_max_accuracy = df_filtrado.loc[idx]\n",
    "    \n",
    "    df_ordenado = df_max_accuracy.sort_values(by='Num Classes')\n",
    "    \n",
    "    datos = []\n",
    "    for _, row in df_ordenado.iterrows():\n",
    "        datos.append({\n",
    "            \"nombre\": row['Model Name'],\n",
    "            \"num_classes\": row['Num Classes'],\n",
    "            \"accuracy\": row['Accuracy']\n",
    "        })\n",
    "    \n",
    "    return datos\n",
    "\n",
    "file_path = 'Results/ModelResults.csv'\n",
    "dataset_name = \"nosub\"\n",
    "lista_num_clases = [20, 46, 94]\n",
    "\n",
    "datos_filtrados = filtrar_datos(file_path, dataset_name, lista_num_clases)\n",
    "\n",
    "datos_por_nombre_2 = {}\n",
    "for dato in datos_filtrados:\n",
    "    nombre = dato[\"nombre\"]\n",
    "    if nombre not in datos_por_nombre_2:\n",
    "        datos_por_nombre_2[nombre] = {\"num_classes\": [], \"accuracy\": []}\n",
    "    datos_por_nombre_2[nombre][\"num_classes\"].append(dato[\"num_classes\"])\n",
    "    datos_por_nombre_2[nombre][\"accuracy\"].append(dato[\"accuracy\"])"
   ]
  },
  {
   "cell_type": "code",
   "execution_count": null,
   "id": "78135f68-53e1-4fe9-a860-30508436f63b",
   "metadata": {},
   "outputs": [],
   "source": [
    "plt.figure(figsize=(12, 8))\n",
    "for nombre, datos in datos_por_nombre_2.items():\n",
    "    plt.scatter(datos[\"num_classes\"], datos[\"accuracy\"], label=nombre)\n",
    "    plt.plot(datos[\"num_classes\"], datos[\"accuracy\"], linestyle='-', marker='o')\n",
    "\n",
    "plt.xlabel('Number of Classes')\n",
    "plt.ylabel('Accuracy')\n",
    "plt.title('Accuracy by Number of Classes')\n",
    "plt.legend()\n",
    "plt.grid(True)\n",
    "plt.show()"
   ]
  }
 ],
 "metadata": {
  "kernelspec": {
   "display_name": "Python 3 (ipykernel)",
   "language": "python",
   "name": "python3"
  },
  "language_info": {
   "codemirror_mode": {
    "name": "ipython",
    "version": 3
   },
   "file_extension": ".py",
   "mimetype": "text/x-python",
   "name": "python",
   "nbconvert_exporter": "python",
   "pygments_lexer": "ipython3",
   "version": "3.11.4"
  }
 },
 "nbformat": 4,
 "nbformat_minor": 5
}
