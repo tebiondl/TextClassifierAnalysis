{
 "cells": [
  {
   "cell_type": "code",
   "execution_count": 1,
   "id": "c428918a-d5d5-4bd5-b89c-eb22172772d2",
   "metadata": {},
   "outputs": [
    {
     "name": "stdout",
     "output_type": "stream",
     "text": [
      "\u001b[33mWARNING: The directory '/home/jovyan/.cache/pip' or its parent directory is not owned or is not writable by the current user. The cache has been disabled. Check the permissions and owner of that directory. If executing pip with sudo, you should use sudo's -H flag.\u001b[0m\u001b[33m\n",
      "\u001b[0mRequirement already satisfied: anytree in /opt/conda/lib/python3.11/site-packages (2.12.1)\n",
      "Requirement already satisfied: six in /opt/conda/lib/python3.11/site-packages (from anytree) (1.16.0)\n",
      "\u001b[33mWARNING: Running pip as the 'root' user can result in broken permissions and conflicting behaviour with the system package manager. It is recommended to use a virtual environment instead: https://pip.pypa.io/warnings/venv\u001b[0m\u001b[33m\n",
      "\u001b[0m"
     ]
    }
   ],
   "source": [
    "!pip install anytree"
   ]
  },
  {
   "cell_type": "code",
   "execution_count": 2,
   "id": "3104dab2-a151-4c71-9bde-a8cea3e7481d",
   "metadata": {},
   "outputs": [],
   "source": [
    "import pandas as pd\n",
    "from anytree import Node, RenderTree, AsciiStyle, PreOrderIter\n",
    "from copy import deepcopy"
   ]
  },
  {
   "cell_type": "code",
   "execution_count": 3,
   "id": "92ab81c9-0fe7-4af2-b02c-1f15c2c70b52",
   "metadata": {},
   "outputs": [],
   "source": [
    "# Leer el archivo CSV\n",
    "df = pd.read_csv('salida.csv')"
   ]
  },
  {
   "cell_type": "code",
   "execution_count": 4,
   "id": "7eec3f75-c62a-4582-9721-6af48c8b07ad",
   "metadata": {},
   "outputs": [],
   "source": [
    "# Crear un diccionario para almacenar los nodos\n",
    "nodes = {}\n",
    "\n",
    "# Construir los nodos y el árbol\n",
    "for _, row in df.iterrows():\n",
    "    parent_name = row['SubClass']\n",
    "    child_name = row['Class']\n",
    "    \n",
    "    # Crear el nodo padre si no existe\n",
    "    if parent_name not in nodes:\n",
    "        nodes[parent_name] = Node(parent_name)\n",
    "    \n",
    "    # Crear el nodo hijo y asignarlo al nodo padre\n",
    "    if child_name not in nodes:\n",
    "        nodes[child_name] = Node(child_name, parent=nodes[parent_name])\n",
    "    else:\n",
    "        nodes[child_name].parent = nodes[parent_name]\n",
    "\n",
    "root_nodes = [node for node in nodes.values() if node.is_root]"
   ]
  },
  {
   "cell_type": "code",
   "execution_count": 5,
   "id": "fbf9d118-bc00-4e9b-9b0a-05da4e6bc19f",
   "metadata": {},
   "outputs": [
    {
     "name": "stdout",
     "output_type": "stream",
     "text": [
      "root\n",
      "|-- persona\n",
      "|   |-- tenista\n",
      "|   +-- atleta\n",
      "+-- comida\n",
      "    |-- carne\n",
      "    |   |-- pollo\n",
      "    |   |-- vaca\n",
      "    |   +-- oveja\n",
      "    |-- vegetal\n",
      "    |   |-- zanahoria\n",
      "    |   +-- tomate\n",
      "    +-- fruta\n"
     ]
    }
   ],
   "source": [
    "# Mostrar el árbol\n",
    "for root_node in root_nodes:\n",
    "    for pre, fill, node in RenderTree(root_node, style=AsciiStyle()):\n",
    "        print(f\"{pre}{node.name}\")"
   ]
  },
  {
   "cell_type": "code",
   "execution_count": 6,
   "id": "beb08a77-c845-4156-83f4-56b1c8183498",
   "metadata": {},
   "outputs": [
    {
     "name": "stdout",
     "output_type": "stream",
     "text": [
      "root\n",
      "|-- persona\n",
      "|   |-- tenista\n",
      "|   +-- atleta\n",
      "+-- comida\n",
      "    |-- carne\n",
      "    |   |-- pollo\n",
      "    |   |-- vaca\n",
      "    |   +-- oveja\n",
      "    |-- vegetal\n",
      "    |   |-- zanahoria\n",
      "    |   +-- tomate\n",
      "    +-- fruta\n"
     ]
    }
   ],
   "source": [
    "#Copiar árbol\n",
    "root_nodes_copy = deepcopy(root_nodes)"
   ]
  },
  {
   "cell_type": "code",
   "execution_count": 7,
   "id": "5c364fbd-b7c5-4171-8ac3-ff3590032bee",
   "metadata": {},
   "outputs": [
    {
     "name": "stdout",
     "output_type": "stream",
     "text": [
      "root\n",
      "├── persona\n",
      "│   ├── tenista\n",
      "│   └── atleta\n",
      "└── comida\n",
      "    ├── carne\n",
      "    ├── vegetal\n",
      "    └── fruta\n"
     ]
    }
   ],
   "source": [
    "# Definir el número máximo de niveles\n",
    "X = 3\n",
    "\n",
    "def prune_tree(node, max_depth, current_depth=1):\n",
    "    # Si estamos al nivel máximo, eliminar todos los hijos\n",
    "    if current_depth >= max_depth:\n",
    "        node.children = []\n",
    "    else:\n",
    "        # Recursivamente podar cada hijo\n",
    "        for child in node.children:\n",
    "            prune_tree(child, max_depth, current_depth + 1)\n",
    "\n",
    "# Podar el árbol a X niveles\n",
    "for root in root_nodes_copy:\n",
    "    prune_tree(root, X)\n",
    "\n",
    "# Mostrar el árbol podado\n",
    "for pre, fill, node in RenderTree(root_nodes_copy[0]):\n",
    "    print(\"%s%s\" % (pre, node.name))"
   ]
  },
  {
   "cell_type": "code",
   "execution_count": 8,
   "id": "2830634c-9b79-41e1-b0d2-851e7c43e9ba",
   "metadata": {},
   "outputs": [],
   "source": [
    "df_new = pd.read_csv('salida2.csv')"
   ]
  },
  {
   "cell_type": "code",
   "execution_count": 10,
   "id": "2df61d38-c28b-41a1-ad1c-1751d925fa4c",
   "metadata": {},
   "outputs": [
    {
     "name": "stdout",
     "output_type": "stream",
     "text": [
      "{'persona': Node('/root/persona'), 'tenista': Node('/root/persona/tenista'), 'atleta': Node('/root/persona/atleta'), 'comida': Node('/root/comida'), 'carne': Node('/root/comida/carne'), 'pollo': Node('/root/comida/carne/pollo'), 'vaca': Node('/root/comida/carne/vaca'), 'oveja': Node('/root/comida/carne/oveja'), 'vegetal': Node('/root/comida/vegetal'), 'zanahoria': Node('/root/comida/vegetal/zanahoria'), 'tomate': Node('/root/comida/vegetal/tomate'), 'fruta': Node('/root/comida/fruta'), 'root': Node('/root')}\n",
      "      Text      Class NewClass\n",
      "0    carne      pollo    carne\n",
      "1    carne       vaca    carne\n",
      "2    carne      oveja    carne\n",
      "3  vegetal  zanahoria  vegetal\n",
      "4  vegetal     tomate  vegetal\n"
     ]
    }
   ],
   "source": [
    "def get_new_class(node, podado_root):\n",
    "    current_node = node\n",
    "    while current_node and not any(p.name == current_node.name for p in podado_root.descendants):\n",
    "        current_node = current_node.parent\n",
    "    return current_node.name if current_node else None\n",
    "\n",
    "nodes = {node.name: node for node in root_nodes[0].descendants}\n",
    "nodes[root.name] = root\n",
    "\n",
    "print(nodes)\n",
    "\n",
    "df_new['NewClass'] = df_new['Class'].apply(lambda x: get_new_class(nodes[x], root_nodes_copy[0]))\n",
    "\n",
    "print(df_new)"
   ]
  },
  {
   "cell_type": "code",
   "execution_count": null,
   "id": "db6aecdb-8513-4dfa-9fe2-59a6f5af1281",
   "metadata": {},
   "outputs": [],
   "source": []
  }
 ],
 "metadata": {
  "kernelspec": {
   "display_name": "Python 3 (ipykernel)",
   "language": "python",
   "name": "python3"
  },
  "language_info": {
   "codemirror_mode": {
    "name": "ipython",
    "version": 3
   },
   "file_extension": ".py",
   "mimetype": "text/x-python",
   "name": "python",
   "nbconvert_exporter": "python",
   "pygments_lexer": "ipython3",
   "version": "3.11.4"
  }
 },
 "nbformat": 4,
 "nbformat_minor": 5
}
