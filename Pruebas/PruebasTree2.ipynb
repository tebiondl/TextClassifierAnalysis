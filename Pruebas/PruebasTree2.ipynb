{
 "cells": [
  {
   "cell_type": "code",
   "execution_count": 1,
   "id": "7bcea386-2101-473a-a469-4ea94847a7ea",
   "metadata": {},
   "outputs": [
    {
     "name": "stdout",
     "output_type": "stream",
     "text": [
      "\u001b[33mWARNING: The directory '/home/jovyan/.cache/pip' or its parent directory is not owned or is not writable by the current user. The cache has been disabled. Check the permissions and owner of that directory. If executing pip with sudo, you should use sudo's -H flag.\u001b[0m\u001b[33m\n",
      "\u001b[0mRequirement already satisfied: anytree in /opt/conda/lib/python3.11/site-packages (2.12.1)\n",
      "Requirement already satisfied: six in /opt/conda/lib/python3.11/site-packages (from anytree) (1.16.0)\n",
      "\u001b[33mWARNING: Running pip as the 'root' user can result in broken permissions and conflicting behaviour with the system package manager. It is recommended to use a virtual environment instead: https://pip.pypa.io/warnings/venv\u001b[0m\u001b[33m\n",
      "\u001b[0m"
     ]
    }
   ],
   "source": [
    "!pip install anytree"
   ]
  },
  {
   "cell_type": "code",
   "execution_count": 2,
   "id": "20d27f4b-e181-490e-a0bd-241339910d14",
   "metadata": {},
   "outputs": [],
   "source": [
    "import pandas as pd\n",
    "from anytree import Node, RenderTree, AsciiStyle, PreOrderIter\n",
    "from copy import deepcopy"
   ]
  },
  {
   "cell_type": "code",
   "execution_count": 3,
   "id": "10cf6ecb-0923-4494-a94c-9357e4d8ab85",
   "metadata": {},
   "outputs": [],
   "source": [
    "# Leer el archivo CSV\n",
    "df = pd.read_csv('salida.csv')"
   ]
  },
  {
   "cell_type": "code",
   "execution_count": 4,
   "id": "f04041a8-6b60-43cb-acab-9a6185760531",
   "metadata": {},
   "outputs": [],
   "source": [
    "# Crear un diccionario para almacenar los nodos\n",
    "nodes = {}\n",
    "\n",
    "# Construir los nodos y el árbol\n",
    "for _, row in df.iterrows():\n",
    "    parent_name = row['SubClass']\n",
    "    child_name = row['Class']\n",
    "    \n",
    "    # Crear el nodo padre si no existe\n",
    "    if parent_name not in nodes:\n",
    "        nodes[parent_name] = Node(parent_name)\n",
    "    \n",
    "    # Crear el nodo hijo y asignarlo al nodo padre\n",
    "    if child_name not in nodes:\n",
    "        nodes[child_name] = Node(child_name, parent=nodes[parent_name])\n",
    "    else:\n",
    "        nodes[child_name].parent = nodes[parent_name]\n",
    "\n",
    "root_nodes = [node for node in nodes.values() if node.is_root]"
   ]
  },
  {
   "cell_type": "code",
   "execution_count": 5,
   "id": "e4fda78a-e375-433b-a326-4530b6e225ec",
   "metadata": {},
   "outputs": [
    {
     "name": "stdout",
     "output_type": "stream",
     "text": [
      "root\n",
      "|-- persona\n",
      "|   |-- tenista\n",
      "|   +-- atleta\n",
      "+-- comida\n",
      "    |-- carne\n",
      "    |   |-- pollo\n",
      "    |   |-- vaca\n",
      "    |   +-- oveja\n",
      "    |-- vegetal\n",
      "    |   |-- zanahoria\n",
      "    |   +-- tomate\n",
      "    +-- fruta\n"
     ]
    }
   ],
   "source": [
    "# Mostrar el árbol\n",
    "for root_node in root_nodes:\n",
    "    for pre, fill, node in RenderTree(root_node, style=AsciiStyle()):\n",
    "        print(f\"{pre}{node.name}\")"
   ]
  },
  {
   "cell_type": "code",
   "execution_count": 6,
   "id": "0081f006-588e-4697-99ee-09153f4a1256",
   "metadata": {},
   "outputs": [],
   "source": [
    "#Copiar árbol\n",
    "root_nodes_copy = deepcopy(root_nodes)"
   ]
  },
  {
   "cell_type": "code",
   "execution_count": 7,
   "id": "b06eaf11-206b-4ff6-ac76-6142d46cf34c",
   "metadata": {},
   "outputs": [
    {
     "name": "stdout",
     "output_type": "stream",
     "text": [
      "root\n",
      "├── persona\n",
      "└── comida\n"
     ]
    }
   ],
   "source": [
    "# Definir el número máximo de niveles\n",
    "X = 2\n",
    "\n",
    "def prune_tree(node, max_depth, current_depth=1):\n",
    "    # Si estamos al nivel máximo, eliminar todos los hijos\n",
    "    if current_depth >= max_depth:\n",
    "        node.children = []\n",
    "    else:\n",
    "        # Recursivamente podar cada hijo\n",
    "        for child in node.children:\n",
    "            prune_tree(child, max_depth, current_depth + 1)\n",
    "\n",
    "# Podar el árbol a X niveles\n",
    "for root in root_nodes_copy:\n",
    "    prune_tree(root, X)\n",
    "\n",
    "# Mostrar el árbol podado\n",
    "for pre, fill, node in RenderTree(root_nodes_copy[0]):\n",
    "    print(\"%s%s\" % (pre, node.name))"
   ]
  },
  {
   "cell_type": "code",
   "execution_count": 8,
   "id": "d9c13fcc-7937-407e-af63-20116a623602",
   "metadata": {},
   "outputs": [],
   "source": [
    "df_new = pd.read_csv('salida2.csv')"
   ]
  },
  {
   "cell_type": "code",
   "execution_count": 9,
   "id": "fb4409c4-9b95-4f33-9c26-9dca57ebdf91",
   "metadata": {},
   "outputs": [
    {
     "name": "stdout",
     "output_type": "stream",
     "text": [
      "['persona', 'comida']\n"
     ]
    }
   ],
   "source": [
    "def find_leaves(node):\n",
    "    if not node.children:\n",
    "        return [node]\n",
    "    leaves = []\n",
    "    for child in node.children:\n",
    "        leaves.extend(find_leaves(child))\n",
    "    return leaves\n",
    "\n",
    "# Crear una lista con los nombres de las hojas del árbol podado\n",
    "leaves_names = []\n",
    "for root in root_nodes_copy:\n",
    "    leaves = find_leaves(root)\n",
    "    leaves_names.extend([leaf.name for leaf in leaves])\n",
    "\n",
    "print(leaves_names)"
   ]
  },
  {
   "cell_type": "code",
   "execution_count": 10,
   "id": "d78fbbc4-9009-4aac-a1b8-caa9dd6cbd90",
   "metadata": {},
   "outputs": [
    {
     "name": "stdout",
     "output_type": "stream",
     "text": [
      "      Text    Class\n",
      "10  Textoo  persona\n",
      "11  Textoo   comida\n"
     ]
    }
   ],
   "source": [
    "# Filtrar las filas del DataFrame que pertenezcan a las hojas del árbol podado\n",
    "filtered_df = df_new[df_new['Class'].isin(leaves_names)]\n",
    "\n",
    "print(filtered_df)\n",
    "\n",
    "# Guardar el DataFrame filtrado en un nuevo CSV\n",
    "#filtered_df.to_csv('filtered_salida2.csv', index=False)"
   ]
  },
  {
   "cell_type": "code",
   "execution_count": null,
   "id": "329f58f6-efaf-45c1-bea5-fa71ebfbfa26",
   "metadata": {},
   "outputs": [],
   "source": []
  }
 ],
 "metadata": {
  "kernelspec": {
   "display_name": "Python 3 (ipykernel)",
   "language": "python",
   "name": "python3"
  },
  "language_info": {
   "codemirror_mode": {
    "name": "ipython",
    "version": 3
   },
   "file_extension": ".py",
   "mimetype": "text/x-python",
   "name": "python",
   "nbconvert_exporter": "python",
   "pygments_lexer": "ipython3",
   "version": "3.11.4"
  }
 },
 "nbformat": 4,
 "nbformat_minor": 5
}
