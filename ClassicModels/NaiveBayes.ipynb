{
 "cells": [
  {
   "cell_type": "code",
   "execution_count": 1,
   "id": "e0ead290-c767-44e3-a9b1-25863151d133",
   "metadata": {},
   "outputs": [],
   "source": [
    "import numpy as np\n",
    "from sklearn.metrics import accuracy_score, confusion_matrix\n",
    "from sklearn.feature_extraction.text import TfidfVectorizer\n",
    "from sklearn.naive_bayes import MultinomialNB\n",
    "from sklearn.preprocessing import LabelEncoder\n",
    "from sklearn import datasets\n",
    "import pandas as pd\n",
    "import numpy as np\n",
    "import matplotlib.pyplot as plt\n",
    "import seaborn as sns"
   ]
  },
  {
   "cell_type": "code",
   "execution_count": 3,
   "id": "18a9008d-0b92-4de7-a341-0dc7308154d6",
   "metadata": {},
   "outputs": [],
   "source": [
    "label_modularity = \"Cat2\"\n",
    "model = \"NB\""
   ]
  },
  {
   "cell_type": "code",
   "execution_count": 4,
   "id": "13b71b41-b973-4f0b-b704-e6abac62a351",
   "metadata": {},
   "outputs": [],
   "source": [
    "train_filename = '../2Dataset/train_40k.csv'\n",
    "validation_filename = '../2Dataset/val_10k.csv'\n",
    "\n",
    "train_data = pd.read_csv(train_filename)\n",
    "validation_data = pd.read_csv(validation_filename)"
   ]
  },
  {
   "cell_type": "code",
   "execution_count": 5,
   "id": "0773cfcf-49e1-43aa-a5cc-6fcc89346524",
   "metadata": {},
   "outputs": [
    {
     "name": "stdout",
     "output_type": "stream",
     "text": [
      "64\n"
     ]
    }
   ],
   "source": [
    "#GET NUMBER OF LABELS\n",
    "original_labels = train_data[label_modularity].unique().tolist()\n",
    "num_labels = num_unique_labels = train_data[label_modularity].nunique()\n",
    "print(num_labels)"
   ]
  },
  {
   "cell_type": "code",
   "execution_count": 6,
   "id": "e60a108e-0646-4bcd-9826-54d30c70db01",
   "metadata": {},
   "outputs": [],
   "source": [
    "label_encoder = LabelEncoder()\n",
    "train_data[label_modularity] = label_encoder.fit_transform(train_data[label_modularity])\n",
    "labels = train_data[label_modularity].tolist()\n",
    "\n",
    "validation_data[label_modularity] = label_encoder.fit_transform(validation_data[label_modularity])\n",
    "val_labels = validation_data[label_modularity].tolist()"
   ]
  },
  {
   "cell_type": "code",
   "execution_count": 7,
   "id": "49aa4175-140a-4754-924e-de222da07957",
   "metadata": {},
   "outputs": [],
   "source": [
    "vectorizer = TfidfVectorizer(max_features=1000, stop_words='english', lowercase=True)\n",
    "train_features = vectorizer.fit_transform(train_data['Text'])\n",
    "validation_features = vectorizer.transform(validation_data['Text'])"
   ]
  },
  {
   "cell_type": "code",
   "execution_count": null,
   "id": "3ee321d2-d02f-4550-ab9b-7609870af76b",
   "metadata": {},
   "outputs": [],
   "source": [
    "# Select any model\n",
    "classifier = MultinomialNB()\n",
    "classifier.fit(train_features, labels)"
   ]
  },
  {
   "cell_type": "code",
   "execution_count": null,
   "id": "2a480352-a775-4b87-a060-22b51ca4474b",
   "metadata": {},
   "outputs": [],
   "source": [
    "val_predictions = classifier.predict(validation_features)\n",
    "accuracy = accuracy_score(val_labels, val_predictions)\n",
    "print(\"Accuracy:\", accuracy)"
   ]
  },
  {
   "cell_type": "code",
   "execution_count": null,
   "id": "b7cc8240-da5d-48ff-bea0-cbbe81b0caa8",
   "metadata": {},
   "outputs": [],
   "source": [
    "conf_matrix = confusion_matrix(val_labels, val_predictions)"
   ]
  },
  {
   "cell_type": "code",
   "execution_count": null,
   "id": "a6a739bf-81e6-4046-b99f-48e919f09de8",
   "metadata": {},
   "outputs": [],
   "source": [
    "class_accuracy = {}\n",
    "for i in range(len(label_encoder.classes_)):\n",
    "    class_name = label_encoder.classes_[i]\n",
    "    total = conf_matrix[i].sum()\n",
    "    correct = conf_matrix[i][i]\n",
    "    accuracy = correct / total if total > 0 else 0.0\n",
    "    class_accuracy[class_name] = accuracy"
   ]
  },
  {
   "cell_type": "code",
   "execution_count": null,
   "id": "f9e24c52-9ae8-45be-9f2a-3dbf583d2524",
   "metadata": {},
   "outputs": [],
   "source": [
    "# Imprimir el accuracy por clase\n",
    "sorted_class_accuracy = sorted(class_accuracy.items(), key=lambda x: x[1], reverse=True)\n",
    "\n",
    "print(\"Accuracy por clase:\")\n",
    "for class_name, acc in sorted_class_accuracy:\n",
    "    print(f\"{class_name}: {acc}\")\n",
    "\n",
    "# Calcular el accuracy general\n",
    "accuracy = accuracy_score(val_labels, val_predictions)\n",
    "print(\"Accuracy general:\", accuracy)"
   ]
  },
  {
   "cell_type": "code",
   "execution_count": null,
   "id": "84f99aac-4736-405b-9550-353680059ee4",
   "metadata": {},
   "outputs": [],
   "source": [
    "normalize=False\n",
    "cmap=plt.cm.Blues\n",
    "\n",
    "plt.figure(figsize=(14, 10))\n",
    "plt.title(\"\")\n",
    "\n",
    "plt.imshow(conf_matrix, interpolation='nearest', cmap=cmap)\n",
    "plt.colorbar()\n",
    "tick_marks = np.arange(num_labels)\n",
    "plt.xticks(tick_marks, original_labels, rotation=90)\n",
    "plt.yticks(tick_marks, original_labels)\n",
    "\n",
    "for i in range(num_labels):\n",
    "        for j in range(num_labels):\n",
    "            plt.gca().add_patch(plt.Rectangle((j - 0.5, i - 0.5), 1, 1, color='black', fill=None, linewidth=0.5))\n",
    "\n",
    "plt.xlabel('Etiqueta predicha')\n",
    "plt.ylabel('Etiqueta real')\n",
    "plt.show()"
   ]
  },
  {
   "cell_type": "code",
   "execution_count": null,
   "id": "cb577e8c-58f4-4db9-8802-36cb3954e30f",
   "metadata": {},
   "outputs": [],
   "source": []
  }
 ],
 "metadata": {
  "kernelspec": {
   "display_name": "Python 3 (ipykernel)",
   "language": "python",
   "name": "python3"
  },
  "language_info": {
   "codemirror_mode": {
    "name": "ipython",
    "version": 3
   },
   "file_extension": ".py",
   "mimetype": "text/x-python",
   "name": "python",
   "nbconvert_exporter": "python",
   "pygments_lexer": "ipython3",
   "version": "3.11.4"
  }
 },
 "nbformat": 4,
 "nbformat_minor": 5
}
