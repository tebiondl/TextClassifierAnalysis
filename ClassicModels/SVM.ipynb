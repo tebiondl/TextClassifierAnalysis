{
 "cells": [
  {
   "cell_type": "code",
   "execution_count": 1,
   "id": "e0ead290-c767-44e3-a9b1-25863151d133",
   "metadata": {},
   "outputs": [],
   "source": [
    "import numpy as np\n",
    "from sklearn.metrics import accuracy_score, confusion_matrix\n",
    "from sklearn.feature_extraction.text import TfidfVectorizer\n",
    "from sklearn.svm import SVC\n",
    "from sklearn.preprocessing import LabelEncoder\n",
    "from sklearn import datasets\n",
    "import pandas as pd"
   ]
  },
  {
   "cell_type": "code",
   "execution_count": 2,
   "id": "18a9008d-0b92-4de7-a341-0dc7308154d6",
   "metadata": {},
   "outputs": [],
   "source": [
    "label_modularity = \"Cat2\"\n",
    "#linear, rbf\n",
    "kernel = \"linear\""
   ]
  },
  {
   "cell_type": "code",
   "execution_count": 3,
   "id": "13b71b41-b973-4f0b-b704-e6abac62a351",
   "metadata": {},
   "outputs": [],
   "source": [
    "train_filename = '../2Dataset/train_40k.csv'\n",
    "validation_filename = '../2Dataset/val_10k.csv'\n",
    "\n",
    "train_data = pd.read_csv(train_filename)\n",
    "validation_data = pd.read_csv(validation_filename)"
   ]
  },
  {
   "cell_type": "code",
   "execution_count": 4,
   "id": "0773cfcf-49e1-43aa-a5cc-6fcc89346524",
   "metadata": {},
   "outputs": [
    {
     "name": "stdout",
     "output_type": "stream",
     "text": [
      "64\n"
     ]
    }
   ],
   "source": [
    "#GET NUMBER OF LABELS\n",
    "num_labels = num_unique_labels = train_data[label_modularity].nunique()\n",
    "print(num_labels)"
   ]
  },
  {
   "cell_type": "code",
   "execution_count": 5,
   "id": "e60a108e-0646-4bcd-9826-54d30c70db01",
   "metadata": {},
   "outputs": [],
   "source": [
    "label_encoder = LabelEncoder()\n",
    "train_data[label_modularity] = label_encoder.fit_transform(train_data[label_modularity])\n",
    "labels = train_data[label_modularity].tolist()\n",
    "\n",
    "validation_data[label_modularity] = label_encoder.fit_transform(validation_data[label_modularity])\n",
    "val_labels = validation_data[label_modularity].tolist()"
   ]
  },
  {
   "cell_type": "code",
   "execution_count": 6,
   "id": "49aa4175-140a-4754-924e-de222da07957",
   "metadata": {},
   "outputs": [],
   "source": [
    "vectorizer = TfidfVectorizer(max_features=1000, stop_words='english', lowercase=True)\n",
    "train_features = vectorizer.fit_transform(train_data['Text'])\n",
    "validation_features = vectorizer.transform(validation_data['Text'])"
   ]
  },
  {
   "cell_type": "code",
   "execution_count": 7,
   "id": "3ee321d2-d02f-4550-ab9b-7609870af76b",
   "metadata": {},
   "outputs": [
    {
     "data": {
      "text/html": [
       "<style>#sk-container-id-1 {color: black;}#sk-container-id-1 pre{padding: 0;}#sk-container-id-1 div.sk-toggleable {background-color: white;}#sk-container-id-1 label.sk-toggleable__label {cursor: pointer;display: block;width: 100%;margin-bottom: 0;padding: 0.3em;box-sizing: border-box;text-align: center;}#sk-container-id-1 label.sk-toggleable__label-arrow:before {content: \"▸\";float: left;margin-right: 0.25em;color: #696969;}#sk-container-id-1 label.sk-toggleable__label-arrow:hover:before {color: black;}#sk-container-id-1 div.sk-estimator:hover label.sk-toggleable__label-arrow:before {color: black;}#sk-container-id-1 div.sk-toggleable__content {max-height: 0;max-width: 0;overflow: hidden;text-align: left;background-color: #f0f8ff;}#sk-container-id-1 div.sk-toggleable__content pre {margin: 0.2em;color: black;border-radius: 0.25em;background-color: #f0f8ff;}#sk-container-id-1 input.sk-toggleable__control:checked~div.sk-toggleable__content {max-height: 200px;max-width: 100%;overflow: auto;}#sk-container-id-1 input.sk-toggleable__control:checked~label.sk-toggleable__label-arrow:before {content: \"▾\";}#sk-container-id-1 div.sk-estimator input.sk-toggleable__control:checked~label.sk-toggleable__label {background-color: #d4ebff;}#sk-container-id-1 div.sk-label input.sk-toggleable__control:checked~label.sk-toggleable__label {background-color: #d4ebff;}#sk-container-id-1 input.sk-hidden--visually {border: 0;clip: rect(1px 1px 1px 1px);clip: rect(1px, 1px, 1px, 1px);height: 1px;margin: -1px;overflow: hidden;padding: 0;position: absolute;width: 1px;}#sk-container-id-1 div.sk-estimator {font-family: monospace;background-color: #f0f8ff;border: 1px dotted black;border-radius: 0.25em;box-sizing: border-box;margin-bottom: 0.5em;}#sk-container-id-1 div.sk-estimator:hover {background-color: #d4ebff;}#sk-container-id-1 div.sk-parallel-item::after {content: \"\";width: 100%;border-bottom: 1px solid gray;flex-grow: 1;}#sk-container-id-1 div.sk-label:hover label.sk-toggleable__label {background-color: #d4ebff;}#sk-container-id-1 div.sk-serial::before {content: \"\";position: absolute;border-left: 1px solid gray;box-sizing: border-box;top: 0;bottom: 0;left: 50%;z-index: 0;}#sk-container-id-1 div.sk-serial {display: flex;flex-direction: column;align-items: center;background-color: white;padding-right: 0.2em;padding-left: 0.2em;position: relative;}#sk-container-id-1 div.sk-item {position: relative;z-index: 1;}#sk-container-id-1 div.sk-parallel {display: flex;align-items: stretch;justify-content: center;background-color: white;position: relative;}#sk-container-id-1 div.sk-item::before, #sk-container-id-1 div.sk-parallel-item::before {content: \"\";position: absolute;border-left: 1px solid gray;box-sizing: border-box;top: 0;bottom: 0;left: 50%;z-index: -1;}#sk-container-id-1 div.sk-parallel-item {display: flex;flex-direction: column;z-index: 1;position: relative;background-color: white;}#sk-container-id-1 div.sk-parallel-item:first-child::after {align-self: flex-end;width: 50%;}#sk-container-id-1 div.sk-parallel-item:last-child::after {align-self: flex-start;width: 50%;}#sk-container-id-1 div.sk-parallel-item:only-child::after {width: 0;}#sk-container-id-1 div.sk-dashed-wrapped {border: 1px dashed gray;margin: 0 0.4em 0.5em 0.4em;box-sizing: border-box;padding-bottom: 0.4em;background-color: white;}#sk-container-id-1 div.sk-label label {font-family: monospace;font-weight: bold;display: inline-block;line-height: 1.2em;}#sk-container-id-1 div.sk-label-container {text-align: center;}#sk-container-id-1 div.sk-container {/* jupyter's `normalize.less` sets `[hidden] { display: none; }` but bootstrap.min.css set `[hidden] { display: none !important; }` so we also need the `!important` here to be able to override the default hidden behavior on the sphinx rendered scikit-learn.org. See: https://github.com/scikit-learn/scikit-learn/issues/21755 */display: inline-block !important;position: relative;}#sk-container-id-1 div.sk-text-repr-fallback {display: none;}</style><div id=\"sk-container-id-1\" class=\"sk-top-container\"><div class=\"sk-text-repr-fallback\"><pre>SVC(kernel=&#x27;linear&#x27;, random_state=42)</pre><b>In a Jupyter environment, please rerun this cell to show the HTML representation or trust the notebook. <br />On GitHub, the HTML representation is unable to render, please try loading this page with nbviewer.org.</b></div><div class=\"sk-container\" hidden><div class=\"sk-item\"><div class=\"sk-estimator sk-toggleable\"><input class=\"sk-toggleable__control sk-hidden--visually\" id=\"sk-estimator-id-1\" type=\"checkbox\" checked><label for=\"sk-estimator-id-1\" class=\"sk-toggleable__label sk-toggleable__label-arrow\">SVC</label><div class=\"sk-toggleable__content\"><pre>SVC(kernel=&#x27;linear&#x27;, random_state=42)</pre></div></div></div></div></div>"
      ],
      "text/plain": [
       "SVC(kernel='linear', random_state=42)"
      ]
     },
     "execution_count": 7,
     "metadata": {},
     "output_type": "execute_result"
    }
   ],
   "source": [
    "svm_classifier = SVC(kernel=kernel, random_state=42)\n",
    "svm_classifier.fit(train_features, labels)"
   ]
  },
  {
   "cell_type": "code",
   "execution_count": 8,
   "id": "2a480352-a775-4b87-a060-22b51ca4474b",
   "metadata": {},
   "outputs": [
    {
     "name": "stdout",
     "output_type": "stream",
     "text": [
      "Accuracy: 0.4887\n"
     ]
    }
   ],
   "source": [
    "val_predictions = svm_classifier.predict(validation_features)\n",
    "accuracy = accuracy_score(val_labels, val_predictions)\n",
    "print(\"Accuracy:\", accuracy)"
   ]
  },
  {
   "cell_type": "code",
   "execution_count": 9,
   "id": "c2054ac6-617c-4fe1-bdc2-ebce78656f15",
   "metadata": {},
   "outputs": [],
   "source": [
    "conf_matrix = confusion_matrix(val_labels, val_predictions)"
   ]
  },
  {
   "cell_type": "code",
   "execution_count": 10,
   "id": "b55655c8-f5e7-48fe-9b37-5ca9a58635cc",
   "metadata": {},
   "outputs": [],
   "source": [
    "class_accuracy = {}\n",
    "for i in range(len(label_encoder.classes_)):\n",
    "    class_name = label_encoder.classes_[i]\n",
    "    total = conf_matrix[i].sum()\n",
    "    correct = conf_matrix[i][i]\n",
    "    accuracy = correct / total if total > 0 else 0.0\n",
    "    class_accuracy[class_name] = accuracy"
   ]
  },
  {
   "cell_type": "code",
   "execution_count": 13,
   "id": "9b381e53-f460-4b9e-9d20-b57cd428ba6a",
   "metadata": {},
   "outputs": [
    {
     "name": "stdout",
     "output_type": "stream",
     "text": [
      "Accuracy por clase:\n",
      "hair care: 0.7380073800738007\n",
      "fragrance: 0.7354085603112841\n",
      "diapering: 0.7205882352941176\n",
      "dogs: 0.7085714285714285\n",
      "beverages: 0.6465116279069767\n",
      "makeup: 0.6356382978723404\n",
      "games: 0.6216216216216216\n",
      "nutrition wellness: 0.6139380530973452\n",
      "cats: 0.5672268907563025\n",
      "skin care: 0.5351239669421488\n",
      "personal care: 0.5\n",
      "pregnancy maternity: 0.5\n",
      "dolls accessories: 0.4925373134328358\n",
      "health care: 0.49074074074074076\n",
      "car seats accessories: 0.47368421052631576\n",
      "puzzles: 0.4666666666666667\n",
      "strollers: 0.45454545454545453\n",
      "fish aquatic pets: 0.4507042253521127\n",
      "feeding: 0.4298245614035088\n",
      "pantry staples: 0.425\n",
      "medical supplies equipment: 0.42105263157894735\n",
      "household supplies: 0.4005524861878453\n",
      "gear: 0.35714285714285715\n",
      "safety: 0.35555555555555557\n",
      "nursery: 0.3504273504273504\n",
      "stuffed animals plush: 0.3416149068322981\n",
      "action toy figures: 0.3391304347826087\n",
      "baby toddler toys: 0.3381294964028777\n",
      "bath body: 0.3380281690140845\n",
      "building toys: 0.3258426966292135\n",
      "snack food: 0.323943661971831\n",
      "candy chocolate: 0.3181818181818182\n",
      "fresh flowers live indoor plants: 0.3076923076923077\n",
      "vehicles remote control: 0.28\n",
      "dress up pretend play: 0.26605504587155965\n",
      "electronics for kids: 0.2553191489361702\n",
      "gifts: 0.25\n",
      "potty training: 0.25\n",
      "sports outdoor play: 0.22580645161290322\n",
      "arts crafts: 0.21212121212121213\n",
      "tools accessories: 0.19480519480519481\n",
      "gourmet gifts: 0.19047619047619047\n",
      "tricycles: 0.13725490196078433\n",
      "bathing skin care: 0.13043478260869565\n",
      "baby child care: 0.10810810810810811\n",
      "sexual wellness: 0.09473684210526316\n",
      "learning education: 0.07453416149068323\n",
      "hobbies: 0.05333333333333334\n",
      "breakfast foods: 0.02564102564102564\n",
      "novelty gag toys: 0.013157894736842105\n",
      "baby food: 0.0\n",
      "birds: 0.0\n",
      "breads bakery: 0.0\n",
      "bunny rabbit central: 0.0\n",
      "cooking baking supplies: 0.0\n",
      "dairy eggs: 0.0\n",
      "grown up toys: 0.0\n",
      "health baby care: 0.0\n",
      "herbs: 0.0\n",
      "meat poultry: 0.0\n",
      "meat seafood: 0.0\n",
      "produce: 0.0\n",
      "sauces dips: 0.0\n",
      "small animals: 0.0\n",
      "Accuracy general: 0.4887\n"
     ]
    }
   ],
   "source": [
    "# Imprimir el accuracy por clase\n",
    "sorted_class_accuracy = sorted(class_accuracy.items(), key=lambda x: x[1], reverse=True)\n",
    "\n",
    "print(\"Accuracy por clase:\")\n",
    "for class_name, acc in sorted_class_accuracy:\n",
    "    print(f\"{class_name}: {acc}\")\n",
    "\n",
    "# Calcular el accuracy general\n",
    "accuracy = accuracy_score(val_labels, val_predictions)\n",
    "print(\"Accuracy general:\", accuracy)"
   ]
  },
  {
   "cell_type": "code",
   "execution_count": null,
   "id": "aa7a8af1-f99c-4dc4-b9a2-07840e8caefb",
   "metadata": {},
   "outputs": [],
   "source": []
  }
 ],
 "metadata": {
  "kernelspec": {
   "display_name": "Python 3 (ipykernel)",
   "language": "python",
   "name": "python3"
  },
  "language_info": {
   "codemirror_mode": {
    "name": "ipython",
    "version": 3
   },
   "file_extension": ".py",
   "mimetype": "text/x-python",
   "name": "python",
   "nbconvert_exporter": "python",
   "pygments_lexer": "ipython3",
   "version": "3.11.4"
  }
 },
 "nbformat": 4,
 "nbformat_minor": 5
}
